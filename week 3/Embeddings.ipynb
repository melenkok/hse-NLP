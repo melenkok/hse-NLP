{
  "nbformat": 4,
  "nbformat_minor": 0,
  "metadata": {
    "kernelspec": {
      "display_name": "Python 3",
      "language": "python",
      "name": "python3"
    },
    "language_info": {
      "codemirror_mode": {
        "name": "ipython",
        "version": 3
      },
      "file_extension": ".py",
      "mimetype": "text/x-python",
      "name": "python",
      "nbconvert_exporter": "python",
      "pygments_lexer": "ipython3",
      "version": "3.4.3"
    },
    "colab": {
      "name": "Embeddings.ipynb",
      "provenance": [],
      "collapsed_sections": [],
      "include_colab_link": true
    },
    "widgets": {
      "application/vnd.jupyter.widget-state+json": {
        "a9cbe7b24a0c490794b51bac7041b6b9": {
          "model_module": "@jupyter-widgets/controls",
          "model_name": "HBoxModel",
          "state": {
            "_view_name": "HBoxView",
            "_dom_classes": [],
            "_model_name": "HBoxModel",
            "_view_module": "@jupyter-widgets/controls",
            "_model_module_version": "1.5.0",
            "_view_count": null,
            "_view_module_version": "1.5.0",
            "box_style": "",
            "layout": "IPY_MODEL_58736f0775a0472ab13a44123c87384d",
            "_model_module": "@jupyter-widgets/controls",
            "children": [
              "IPY_MODEL_d4df29cb46d544d9949be4f6de0b92d9",
              "IPY_MODEL_447c0fe8009543d7bfac7c9565b8f46d"
            ]
          }
        },
        "58736f0775a0472ab13a44123c87384d": {
          "model_module": "@jupyter-widgets/base",
          "model_name": "LayoutModel",
          "state": {
            "_view_name": "LayoutView",
            "grid_template_rows": null,
            "right": null,
            "justify_content": null,
            "_view_module": "@jupyter-widgets/base",
            "overflow": null,
            "_model_module_version": "1.2.0",
            "_view_count": null,
            "flex_flow": null,
            "width": null,
            "min_width": null,
            "border": null,
            "align_items": null,
            "bottom": null,
            "_model_module": "@jupyter-widgets/base",
            "top": null,
            "grid_column": null,
            "overflow_y": null,
            "overflow_x": null,
            "grid_auto_flow": null,
            "grid_area": null,
            "grid_template_columns": null,
            "flex": null,
            "_model_name": "LayoutModel",
            "justify_items": null,
            "grid_row": null,
            "max_height": null,
            "align_content": null,
            "visibility": null,
            "align_self": null,
            "height": null,
            "min_height": null,
            "padding": null,
            "grid_auto_rows": null,
            "grid_gap": null,
            "max_width": null,
            "order": null,
            "_view_module_version": "1.2.0",
            "grid_template_areas": null,
            "object_position": null,
            "object_fit": null,
            "grid_auto_columns": null,
            "margin": null,
            "display": null,
            "left": null
          }
        },
        "d4df29cb46d544d9949be4f6de0b92d9": {
          "model_module": "@jupyter-widgets/controls",
          "model_name": "FloatProgressModel",
          "state": {
            "_view_name": "ProgressView",
            "style": "IPY_MODEL_36a256513116488ca85dc965023a37e5",
            "_dom_classes": [],
            "description": "train.tsv: 100%",
            "_model_name": "FloatProgressModel",
            "bar_style": "success",
            "max": 119127793,
            "_view_module": "@jupyter-widgets/controls",
            "_model_module_version": "1.5.0",
            "value": 119127793,
            "_view_count": null,
            "_view_module_version": "1.5.0",
            "orientation": "horizontal",
            "min": 0,
            "description_tooltip": null,
            "_model_module": "@jupyter-widgets/controls",
            "layout": "IPY_MODEL_0fae1fa25ea74788bb90559e93a29aa2"
          }
        },
        "447c0fe8009543d7bfac7c9565b8f46d": {
          "model_module": "@jupyter-widgets/controls",
          "model_name": "HTMLModel",
          "state": {
            "_view_name": "HTMLView",
            "style": "IPY_MODEL_13e176012b314fce8e8f8a3d010edf66",
            "_dom_classes": [],
            "description": "",
            "_model_name": "HTMLModel",
            "placeholder": "​",
            "_view_module": "@jupyter-widgets/controls",
            "_model_module_version": "1.5.0",
            "value": " 119M/119M [00:40&lt;00:00, 2.97MB/s]",
            "_view_count": null,
            "_view_module_version": "1.5.0",
            "description_tooltip": null,
            "_model_module": "@jupyter-widgets/controls",
            "layout": "IPY_MODEL_5ae196ade2004430b121509783007e07"
          }
        },
        "36a256513116488ca85dc965023a37e5": {
          "model_module": "@jupyter-widgets/controls",
          "model_name": "ProgressStyleModel",
          "state": {
            "_view_name": "StyleView",
            "_model_name": "ProgressStyleModel",
            "description_width": "initial",
            "_view_module": "@jupyter-widgets/base",
            "_model_module_version": "1.5.0",
            "_view_count": null,
            "_view_module_version": "1.2.0",
            "bar_color": null,
            "_model_module": "@jupyter-widgets/controls"
          }
        },
        "0fae1fa25ea74788bb90559e93a29aa2": {
          "model_module": "@jupyter-widgets/base",
          "model_name": "LayoutModel",
          "state": {
            "_view_name": "LayoutView",
            "grid_template_rows": null,
            "right": null,
            "justify_content": null,
            "_view_module": "@jupyter-widgets/base",
            "overflow": null,
            "_model_module_version": "1.2.0",
            "_view_count": null,
            "flex_flow": null,
            "width": null,
            "min_width": null,
            "border": null,
            "align_items": null,
            "bottom": null,
            "_model_module": "@jupyter-widgets/base",
            "top": null,
            "grid_column": null,
            "overflow_y": null,
            "overflow_x": null,
            "grid_auto_flow": null,
            "grid_area": null,
            "grid_template_columns": null,
            "flex": null,
            "_model_name": "LayoutModel",
            "justify_items": null,
            "grid_row": null,
            "max_height": null,
            "align_content": null,
            "visibility": null,
            "align_self": null,
            "height": null,
            "min_height": null,
            "padding": null,
            "grid_auto_rows": null,
            "grid_gap": null,
            "max_width": null,
            "order": null,
            "_view_module_version": "1.2.0",
            "grid_template_areas": null,
            "object_position": null,
            "object_fit": null,
            "grid_auto_columns": null,
            "margin": null,
            "display": null,
            "left": null
          }
        },
        "13e176012b314fce8e8f8a3d010edf66": {
          "model_module": "@jupyter-widgets/controls",
          "model_name": "DescriptionStyleModel",
          "state": {
            "_view_name": "StyleView",
            "_model_name": "DescriptionStyleModel",
            "description_width": "",
            "_view_module": "@jupyter-widgets/base",
            "_model_module_version": "1.5.0",
            "_view_count": null,
            "_view_module_version": "1.2.0",
            "_model_module": "@jupyter-widgets/controls"
          }
        },
        "5ae196ade2004430b121509783007e07": {
          "model_module": "@jupyter-widgets/base",
          "model_name": "LayoutModel",
          "state": {
            "_view_name": "LayoutView",
            "grid_template_rows": null,
            "right": null,
            "justify_content": null,
            "_view_module": "@jupyter-widgets/base",
            "overflow": null,
            "_model_module_version": "1.2.0",
            "_view_count": null,
            "flex_flow": null,
            "width": null,
            "min_width": null,
            "border": null,
            "align_items": null,
            "bottom": null,
            "_model_module": "@jupyter-widgets/base",
            "top": null,
            "grid_column": null,
            "overflow_y": null,
            "overflow_x": null,
            "grid_auto_flow": null,
            "grid_area": null,
            "grid_template_columns": null,
            "flex": null,
            "_model_name": "LayoutModel",
            "justify_items": null,
            "grid_row": null,
            "max_height": null,
            "align_content": null,
            "visibility": null,
            "align_self": null,
            "height": null,
            "min_height": null,
            "padding": null,
            "grid_auto_rows": null,
            "grid_gap": null,
            "max_width": null,
            "order": null,
            "_view_module_version": "1.2.0",
            "grid_template_areas": null,
            "object_position": null,
            "object_fit": null,
            "grid_auto_columns": null,
            "margin": null,
            "display": null,
            "left": null
          }
        },
        "35786ff3fde24f09a8c7ec061ce5e326": {
          "model_module": "@jupyter-widgets/controls",
          "model_name": "HBoxModel",
          "state": {
            "_view_name": "HBoxView",
            "_dom_classes": [],
            "_model_name": "HBoxModel",
            "_view_module": "@jupyter-widgets/controls",
            "_model_module_version": "1.5.0",
            "_view_count": null,
            "_view_module_version": "1.5.0",
            "box_style": "",
            "layout": "IPY_MODEL_a92f369bc7174b36840a33944c0a098d",
            "_model_module": "@jupyter-widgets/controls",
            "children": [
              "IPY_MODEL_d1e9f229decb4bf290c4689fdf05b78f",
              "IPY_MODEL_6815f432d8b44d13b069d4086b0548a6"
            ]
          }
        },
        "a92f369bc7174b36840a33944c0a098d": {
          "model_module": "@jupyter-widgets/base",
          "model_name": "LayoutModel",
          "state": {
            "_view_name": "LayoutView",
            "grid_template_rows": null,
            "right": null,
            "justify_content": null,
            "_view_module": "@jupyter-widgets/base",
            "overflow": null,
            "_model_module_version": "1.2.0",
            "_view_count": null,
            "flex_flow": null,
            "width": null,
            "min_width": null,
            "border": null,
            "align_items": null,
            "bottom": null,
            "_model_module": "@jupyter-widgets/base",
            "top": null,
            "grid_column": null,
            "overflow_y": null,
            "overflow_x": null,
            "grid_auto_flow": null,
            "grid_area": null,
            "grid_template_columns": null,
            "flex": null,
            "_model_name": "LayoutModel",
            "justify_items": null,
            "grid_row": null,
            "max_height": null,
            "align_content": null,
            "visibility": null,
            "align_self": null,
            "height": null,
            "min_height": null,
            "padding": null,
            "grid_auto_rows": null,
            "grid_gap": null,
            "max_width": null,
            "order": null,
            "_view_module_version": "1.2.0",
            "grid_template_areas": null,
            "object_position": null,
            "object_fit": null,
            "grid_auto_columns": null,
            "margin": null,
            "display": null,
            "left": null
          }
        },
        "d1e9f229decb4bf290c4689fdf05b78f": {
          "model_module": "@jupyter-widgets/controls",
          "model_name": "FloatProgressModel",
          "state": {
            "_view_name": "ProgressView",
            "style": "IPY_MODEL_4a9436a785f74df6998c910ddfcefb5f",
            "_dom_classes": [],
            "description": "validation.tsv: 100%",
            "_model_name": "FloatProgressModel",
            "bar_style": "success",
            "max": 535543630,
            "_view_module": "@jupyter-widgets/controls",
            "_model_module_version": "1.5.0",
            "value": 535543630,
            "_view_count": null,
            "_view_module_version": "1.5.0",
            "orientation": "horizontal",
            "min": 0,
            "description_tooltip": null,
            "_model_module": "@jupyter-widgets/controls",
            "layout": "IPY_MODEL_911182047b014e53ab2d254edf623705"
          }
        },
        "6815f432d8b44d13b069d4086b0548a6": {
          "model_module": "@jupyter-widgets/controls",
          "model_name": "HTMLModel",
          "state": {
            "_view_name": "HTMLView",
            "style": "IPY_MODEL_4046a55f94ec41e8b9e2d6f7279df19d",
            "_dom_classes": [],
            "description": "",
            "_model_name": "HTMLModel",
            "placeholder": "​",
            "_view_module": "@jupyter-widgets/controls",
            "_model_module_version": "1.5.0",
            "value": " 536M/536M [00:11&lt;00:00, 45.3MB/s]",
            "_view_count": null,
            "_view_module_version": "1.5.0",
            "description_tooltip": null,
            "_model_module": "@jupyter-widgets/controls",
            "layout": "IPY_MODEL_8517b9696cd94a22aa2dba56397ff4ae"
          }
        },
        "4a9436a785f74df6998c910ddfcefb5f": {
          "model_module": "@jupyter-widgets/controls",
          "model_name": "ProgressStyleModel",
          "state": {
            "_view_name": "StyleView",
            "_model_name": "ProgressStyleModel",
            "description_width": "initial",
            "_view_module": "@jupyter-widgets/base",
            "_model_module_version": "1.5.0",
            "_view_count": null,
            "_view_module_version": "1.2.0",
            "bar_color": null,
            "_model_module": "@jupyter-widgets/controls"
          }
        },
        "911182047b014e53ab2d254edf623705": {
          "model_module": "@jupyter-widgets/base",
          "model_name": "LayoutModel",
          "state": {
            "_view_name": "LayoutView",
            "grid_template_rows": null,
            "right": null,
            "justify_content": null,
            "_view_module": "@jupyter-widgets/base",
            "overflow": null,
            "_model_module_version": "1.2.0",
            "_view_count": null,
            "flex_flow": null,
            "width": null,
            "min_width": null,
            "border": null,
            "align_items": null,
            "bottom": null,
            "_model_module": "@jupyter-widgets/base",
            "top": null,
            "grid_column": null,
            "overflow_y": null,
            "overflow_x": null,
            "grid_auto_flow": null,
            "grid_area": null,
            "grid_template_columns": null,
            "flex": null,
            "_model_name": "LayoutModel",
            "justify_items": null,
            "grid_row": null,
            "max_height": null,
            "align_content": null,
            "visibility": null,
            "align_self": null,
            "height": null,
            "min_height": null,
            "padding": null,
            "grid_auto_rows": null,
            "grid_gap": null,
            "max_width": null,
            "order": null,
            "_view_module_version": "1.2.0",
            "grid_template_areas": null,
            "object_position": null,
            "object_fit": null,
            "grid_auto_columns": null,
            "margin": null,
            "display": null,
            "left": null
          }
        },
        "4046a55f94ec41e8b9e2d6f7279df19d": {
          "model_module": "@jupyter-widgets/controls",
          "model_name": "DescriptionStyleModel",
          "state": {
            "_view_name": "StyleView",
            "_model_name": "DescriptionStyleModel",
            "description_width": "",
            "_view_module": "@jupyter-widgets/base",
            "_model_module_version": "1.5.0",
            "_view_count": null,
            "_view_module_version": "1.2.0",
            "_model_module": "@jupyter-widgets/controls"
          }
        },
        "8517b9696cd94a22aa2dba56397ff4ae": {
          "model_module": "@jupyter-widgets/base",
          "model_name": "LayoutModel",
          "state": {
            "_view_name": "LayoutView",
            "grid_template_rows": null,
            "right": null,
            "justify_content": null,
            "_view_module": "@jupyter-widgets/base",
            "overflow": null,
            "_model_module_version": "1.2.0",
            "_view_count": null,
            "flex_flow": null,
            "width": null,
            "min_width": null,
            "border": null,
            "align_items": null,
            "bottom": null,
            "_model_module": "@jupyter-widgets/base",
            "top": null,
            "grid_column": null,
            "overflow_y": null,
            "overflow_x": null,
            "grid_auto_flow": null,
            "grid_area": null,
            "grid_template_columns": null,
            "flex": null,
            "_model_name": "LayoutModel",
            "justify_items": null,
            "grid_row": null,
            "max_height": null,
            "align_content": null,
            "visibility": null,
            "align_self": null,
            "height": null,
            "min_height": null,
            "padding": null,
            "grid_auto_rows": null,
            "grid_gap": null,
            "max_width": null,
            "order": null,
            "_view_module_version": "1.2.0",
            "grid_template_areas": null,
            "object_position": null,
            "object_fit": null,
            "grid_auto_columns": null,
            "margin": null,
            "display": null,
            "left": null
          }
        },
        "3831a465634c441a8903cd1ca996aff2": {
          "model_module": "@jupyter-widgets/controls",
          "model_name": "HBoxModel",
          "state": {
            "_view_name": "HBoxView",
            "_dom_classes": [],
            "_model_name": "HBoxModel",
            "_view_module": "@jupyter-widgets/controls",
            "_model_module_version": "1.5.0",
            "_view_count": null,
            "_view_module_version": "1.5.0",
            "box_style": "",
            "layout": "IPY_MODEL_b9b6a2c978de40a3a471adfec6e7f2a4",
            "_model_module": "@jupyter-widgets/controls",
            "children": [
              "IPY_MODEL_14310bf631584dcdb8880167caa2aa0d",
              "IPY_MODEL_9659bd9821b84bbcac07ad581913d816"
            ]
          }
        },
        "b9b6a2c978de40a3a471adfec6e7f2a4": {
          "model_module": "@jupyter-widgets/base",
          "model_name": "LayoutModel",
          "state": {
            "_view_name": "LayoutView",
            "grid_template_rows": null,
            "right": null,
            "justify_content": null,
            "_view_module": "@jupyter-widgets/base",
            "overflow": null,
            "_model_module_version": "1.2.0",
            "_view_count": null,
            "flex_flow": null,
            "width": null,
            "min_width": null,
            "border": null,
            "align_items": null,
            "bottom": null,
            "_model_module": "@jupyter-widgets/base",
            "top": null,
            "grid_column": null,
            "overflow_y": null,
            "overflow_x": null,
            "grid_auto_flow": null,
            "grid_area": null,
            "grid_template_columns": null,
            "flex": null,
            "_model_name": "LayoutModel",
            "justify_items": null,
            "grid_row": null,
            "max_height": null,
            "align_content": null,
            "visibility": null,
            "align_self": null,
            "height": null,
            "min_height": null,
            "padding": null,
            "grid_auto_rows": null,
            "grid_gap": null,
            "max_width": null,
            "order": null,
            "_view_module_version": "1.2.0",
            "grid_template_areas": null,
            "object_position": null,
            "object_fit": null,
            "grid_auto_columns": null,
            "margin": null,
            "display": null,
            "left": null
          }
        },
        "14310bf631584dcdb8880167caa2aa0d": {
          "model_module": "@jupyter-widgets/controls",
          "model_name": "FloatProgressModel",
          "state": {
            "_view_name": "ProgressView",
            "style": "IPY_MODEL_e789b6976d664cd4960d3f6c43f4779d",
            "_dom_classes": [],
            "description": "test.tsv: 100%",
            "_model_name": "FloatProgressModel",
            "bar_style": "success",
            "max": 46408910,
            "_view_module": "@jupyter-widgets/controls",
            "_model_module_version": "1.5.0",
            "value": 46408910,
            "_view_count": null,
            "_view_module_version": "1.5.0",
            "orientation": "horizontal",
            "min": 0,
            "description_tooltip": null,
            "_model_module": "@jupyter-widgets/controls",
            "layout": "IPY_MODEL_69f38c518c7b47f086abc31076e5e983"
          }
        },
        "9659bd9821b84bbcac07ad581913d816": {
          "model_module": "@jupyter-widgets/controls",
          "model_name": "HTMLModel",
          "state": {
            "_view_name": "HTMLView",
            "style": "IPY_MODEL_5d728b09251b4c3c860f78aeb859c7c9",
            "_dom_classes": [],
            "description": "",
            "_model_name": "HTMLModel",
            "placeholder": "​",
            "_view_module": "@jupyter-widgets/controls",
            "_model_module_version": "1.5.0",
            "value": " 46.4M/46.4M [00:26&lt;00:00, 1.76MB/s]",
            "_view_count": null,
            "_view_module_version": "1.5.0",
            "description_tooltip": null,
            "_model_module": "@jupyter-widgets/controls",
            "layout": "IPY_MODEL_e00690654e9544c48b7e13ae7c9c8826"
          }
        },
        "e789b6976d664cd4960d3f6c43f4779d": {
          "model_module": "@jupyter-widgets/controls",
          "model_name": "ProgressStyleModel",
          "state": {
            "_view_name": "StyleView",
            "_model_name": "ProgressStyleModel",
            "description_width": "initial",
            "_view_module": "@jupyter-widgets/base",
            "_model_module_version": "1.5.0",
            "_view_count": null,
            "_view_module_version": "1.2.0",
            "bar_color": null,
            "_model_module": "@jupyter-widgets/controls"
          }
        },
        "69f38c518c7b47f086abc31076e5e983": {
          "model_module": "@jupyter-widgets/base",
          "model_name": "LayoutModel",
          "state": {
            "_view_name": "LayoutView",
            "grid_template_rows": null,
            "right": null,
            "justify_content": null,
            "_view_module": "@jupyter-widgets/base",
            "overflow": null,
            "_model_module_version": "1.2.0",
            "_view_count": null,
            "flex_flow": null,
            "width": null,
            "min_width": null,
            "border": null,
            "align_items": null,
            "bottom": null,
            "_model_module": "@jupyter-widgets/base",
            "top": null,
            "grid_column": null,
            "overflow_y": null,
            "overflow_x": null,
            "grid_auto_flow": null,
            "grid_area": null,
            "grid_template_columns": null,
            "flex": null,
            "_model_name": "LayoutModel",
            "justify_items": null,
            "grid_row": null,
            "max_height": null,
            "align_content": null,
            "visibility": null,
            "align_self": null,
            "height": null,
            "min_height": null,
            "padding": null,
            "grid_auto_rows": null,
            "grid_gap": null,
            "max_width": null,
            "order": null,
            "_view_module_version": "1.2.0",
            "grid_template_areas": null,
            "object_position": null,
            "object_fit": null,
            "grid_auto_columns": null,
            "margin": null,
            "display": null,
            "left": null
          }
        },
        "5d728b09251b4c3c860f78aeb859c7c9": {
          "model_module": "@jupyter-widgets/controls",
          "model_name": "DescriptionStyleModel",
          "state": {
            "_view_name": "StyleView",
            "_model_name": "DescriptionStyleModel",
            "description_width": "",
            "_view_module": "@jupyter-widgets/base",
            "_model_module_version": "1.5.0",
            "_view_count": null,
            "_view_module_version": "1.2.0",
            "_model_module": "@jupyter-widgets/controls"
          }
        },
        "e00690654e9544c48b7e13ae7c9c8826": {
          "model_module": "@jupyter-widgets/base",
          "model_name": "LayoutModel",
          "state": {
            "_view_name": "LayoutView",
            "grid_template_rows": null,
            "right": null,
            "justify_content": null,
            "_view_module": "@jupyter-widgets/base",
            "overflow": null,
            "_model_module_version": "1.2.0",
            "_view_count": null,
            "flex_flow": null,
            "width": null,
            "min_width": null,
            "border": null,
            "align_items": null,
            "bottom": null,
            "_model_module": "@jupyter-widgets/base",
            "top": null,
            "grid_column": null,
            "overflow_y": null,
            "overflow_x": null,
            "grid_auto_flow": null,
            "grid_area": null,
            "grid_template_columns": null,
            "flex": null,
            "_model_name": "LayoutModel",
            "justify_items": null,
            "grid_row": null,
            "max_height": null,
            "align_content": null,
            "visibility": null,
            "align_self": null,
            "height": null,
            "min_height": null,
            "padding": null,
            "grid_auto_rows": null,
            "grid_gap": null,
            "max_width": null,
            "order": null,
            "_view_module_version": "1.2.0",
            "grid_template_areas": null,
            "object_position": null,
            "object_fit": null,
            "grid_auto_columns": null,
            "margin": null,
            "display": null,
            "left": null
          }
        },
        "13eb9f51626f4565b067a21d7f2cfe50": {
          "model_module": "@jupyter-widgets/controls",
          "model_name": "HBoxModel",
          "state": {
            "_view_name": "HBoxView",
            "_dom_classes": [],
            "_model_name": "HBoxModel",
            "_view_module": "@jupyter-widgets/controls",
            "_model_module_version": "1.5.0",
            "_view_count": null,
            "_view_module_version": "1.5.0",
            "box_style": "",
            "layout": "IPY_MODEL_cd927f6553ce4681a6bd878c6cbcc898",
            "_model_module": "@jupyter-widgets/controls",
            "children": [
              "IPY_MODEL_690b898e654544efab24ec77c4c1f84e",
              "IPY_MODEL_4c2696876b4548669078e8b472d00a42"
            ]
          }
        },
        "cd927f6553ce4681a6bd878c6cbcc898": {
          "model_module": "@jupyter-widgets/base",
          "model_name": "LayoutModel",
          "state": {
            "_view_name": "LayoutView",
            "grid_template_rows": null,
            "right": null,
            "justify_content": null,
            "_view_module": "@jupyter-widgets/base",
            "overflow": null,
            "_model_module_version": "1.2.0",
            "_view_count": null,
            "flex_flow": null,
            "width": null,
            "min_width": null,
            "border": null,
            "align_items": null,
            "bottom": null,
            "_model_module": "@jupyter-widgets/base",
            "top": null,
            "grid_column": null,
            "overflow_y": null,
            "overflow_x": null,
            "grid_auto_flow": null,
            "grid_area": null,
            "grid_template_columns": null,
            "flex": null,
            "_model_name": "LayoutModel",
            "justify_items": null,
            "grid_row": null,
            "max_height": null,
            "align_content": null,
            "visibility": null,
            "align_self": null,
            "height": null,
            "min_height": null,
            "padding": null,
            "grid_auto_rows": null,
            "grid_gap": null,
            "max_width": null,
            "order": null,
            "_view_module_version": "1.2.0",
            "grid_template_areas": null,
            "object_position": null,
            "object_fit": null,
            "grid_auto_columns": null,
            "margin": null,
            "display": null,
            "left": null
          }
        },
        "690b898e654544efab24ec77c4c1f84e": {
          "model_module": "@jupyter-widgets/controls",
          "model_name": "FloatProgressModel",
          "state": {
            "_view_name": "ProgressView",
            "style": "IPY_MODEL_4e94724b31734f4d8849d5b1d480999e",
            "_dom_classes": [],
            "description": "test_embeddings.tsv: 100%",
            "_model_name": "FloatProgressModel",
            "bar_style": "success",
            "max": 5333,
            "_view_module": "@jupyter-widgets/controls",
            "_model_module_version": "1.5.0",
            "value": 5333,
            "_view_count": null,
            "_view_module_version": "1.5.0",
            "orientation": "horizontal",
            "min": 0,
            "description_tooltip": null,
            "_model_module": "@jupyter-widgets/controls",
            "layout": "IPY_MODEL_4ffc4ce35cb8474cb68196665c9f5ec2"
          }
        },
        "4c2696876b4548669078e8b472d00a42": {
          "model_module": "@jupyter-widgets/controls",
          "model_name": "HTMLModel",
          "state": {
            "_view_name": "HTMLView",
            "style": "IPY_MODEL_615dd998e0c9465d93f90ac46065b8c5",
            "_dom_classes": [],
            "description": "",
            "_model_name": "HTMLModel",
            "placeholder": "​",
            "_view_module": "@jupyter-widgets/controls",
            "_model_module_version": "1.5.0",
            "value": " 5.33k/5.33k [00:25&lt;00:00, 211B/s]",
            "_view_count": null,
            "_view_module_version": "1.5.0",
            "description_tooltip": null,
            "_model_module": "@jupyter-widgets/controls",
            "layout": "IPY_MODEL_baf8818d081c42eebf4eb9908927698c"
          }
        },
        "4e94724b31734f4d8849d5b1d480999e": {
          "model_module": "@jupyter-widgets/controls",
          "model_name": "ProgressStyleModel",
          "state": {
            "_view_name": "StyleView",
            "_model_name": "ProgressStyleModel",
            "description_width": "initial",
            "_view_module": "@jupyter-widgets/base",
            "_model_module_version": "1.5.0",
            "_view_count": null,
            "_view_module_version": "1.2.0",
            "bar_color": null,
            "_model_module": "@jupyter-widgets/controls"
          }
        },
        "4ffc4ce35cb8474cb68196665c9f5ec2": {
          "model_module": "@jupyter-widgets/base",
          "model_name": "LayoutModel",
          "state": {
            "_view_name": "LayoutView",
            "grid_template_rows": null,
            "right": null,
            "justify_content": null,
            "_view_module": "@jupyter-widgets/base",
            "overflow": null,
            "_model_module_version": "1.2.0",
            "_view_count": null,
            "flex_flow": null,
            "width": null,
            "min_width": null,
            "border": null,
            "align_items": null,
            "bottom": null,
            "_model_module": "@jupyter-widgets/base",
            "top": null,
            "grid_column": null,
            "overflow_y": null,
            "overflow_x": null,
            "grid_auto_flow": null,
            "grid_area": null,
            "grid_template_columns": null,
            "flex": null,
            "_model_name": "LayoutModel",
            "justify_items": null,
            "grid_row": null,
            "max_height": null,
            "align_content": null,
            "visibility": null,
            "align_self": null,
            "height": null,
            "min_height": null,
            "padding": null,
            "grid_auto_rows": null,
            "grid_gap": null,
            "max_width": null,
            "order": null,
            "_view_module_version": "1.2.0",
            "grid_template_areas": null,
            "object_position": null,
            "object_fit": null,
            "grid_auto_columns": null,
            "margin": null,
            "display": null,
            "left": null
          }
        },
        "615dd998e0c9465d93f90ac46065b8c5": {
          "model_module": "@jupyter-widgets/controls",
          "model_name": "DescriptionStyleModel",
          "state": {
            "_view_name": "StyleView",
            "_model_name": "DescriptionStyleModel",
            "description_width": "",
            "_view_module": "@jupyter-widgets/base",
            "_model_module_version": "1.5.0",
            "_view_count": null,
            "_view_module_version": "1.2.0",
            "_model_module": "@jupyter-widgets/controls"
          }
        },
        "baf8818d081c42eebf4eb9908927698c": {
          "model_module": "@jupyter-widgets/base",
          "model_name": "LayoutModel",
          "state": {
            "_view_name": "LayoutView",
            "grid_template_rows": null,
            "right": null,
            "justify_content": null,
            "_view_module": "@jupyter-widgets/base",
            "overflow": null,
            "_model_module_version": "1.2.0",
            "_view_count": null,
            "flex_flow": null,
            "width": null,
            "min_width": null,
            "border": null,
            "align_items": null,
            "bottom": null,
            "_model_module": "@jupyter-widgets/base",
            "top": null,
            "grid_column": null,
            "overflow_y": null,
            "overflow_x": null,
            "grid_auto_flow": null,
            "grid_area": null,
            "grid_template_columns": null,
            "flex": null,
            "_model_name": "LayoutModel",
            "justify_items": null,
            "grid_row": null,
            "max_height": null,
            "align_content": null,
            "visibility": null,
            "align_self": null,
            "height": null,
            "min_height": null,
            "padding": null,
            "grid_auto_rows": null,
            "grid_gap": null,
            "max_width": null,
            "order": null,
            "_view_module_version": "1.2.0",
            "grid_template_areas": null,
            "object_position": null,
            "object_fit": null,
            "grid_auto_columns": null,
            "margin": null,
            "display": null,
            "left": null
          }
        },
        "d03af99c730f4297af4f5e7b4cd17c7c": {
          "model_module": "@jupyter-widgets/controls",
          "model_name": "HBoxModel",
          "state": {
            "_view_name": "HBoxView",
            "_dom_classes": [],
            "_model_name": "HBoxModel",
            "_view_module": "@jupyter-widgets/controls",
            "_model_module_version": "1.5.0",
            "_view_count": null,
            "_view_module_version": "1.5.0",
            "box_style": "",
            "layout": "IPY_MODEL_8d973c0364384d378e2e23efd1f69d09",
            "_model_module": "@jupyter-widgets/controls",
            "children": [
              "IPY_MODEL_1f019b82e5eb4372846cecbee6cdcb04",
              "IPY_MODEL_d99bb20e62704c118c212d94e1803ed6"
            ]
          }
        },
        "8d973c0364384d378e2e23efd1f69d09": {
          "model_module": "@jupyter-widgets/base",
          "model_name": "LayoutModel",
          "state": {
            "_view_name": "LayoutView",
            "grid_template_rows": null,
            "right": null,
            "justify_content": null,
            "_view_module": "@jupyter-widgets/base",
            "overflow": null,
            "_model_module_version": "1.2.0",
            "_view_count": null,
            "flex_flow": null,
            "width": null,
            "min_width": null,
            "border": null,
            "align_items": null,
            "bottom": null,
            "_model_module": "@jupyter-widgets/base",
            "top": null,
            "grid_column": null,
            "overflow_y": null,
            "overflow_x": null,
            "grid_auto_flow": null,
            "grid_area": null,
            "grid_template_columns": null,
            "flex": null,
            "_model_name": "LayoutModel",
            "justify_items": null,
            "grid_row": null,
            "max_height": null,
            "align_content": null,
            "visibility": null,
            "align_self": null,
            "height": null,
            "min_height": null,
            "padding": null,
            "grid_auto_rows": null,
            "grid_gap": null,
            "max_width": null,
            "order": null,
            "_view_module_version": "1.2.0",
            "grid_template_areas": null,
            "object_position": null,
            "object_fit": null,
            "grid_auto_columns": null,
            "margin": null,
            "display": null,
            "left": null
          }
        },
        "1f019b82e5eb4372846cecbee6cdcb04": {
          "model_module": "@jupyter-widgets/controls",
          "model_name": "FloatProgressModel",
          "state": {
            "_view_name": "ProgressView",
            "style": "IPY_MODEL_9aab0bb335e04672ba3c16599d7ce86e",
            "_dom_classes": [],
            "description": "GoogleNews-vectors-negative300.bin.gz: 100%",
            "_model_name": "FloatProgressModel",
            "bar_style": "success",
            "max": 1647046227,
            "_view_module": "@jupyter-widgets/controls",
            "_model_module_version": "1.5.0",
            "value": 1647046227,
            "_view_count": null,
            "_view_module_version": "1.5.0",
            "orientation": "horizontal",
            "min": 0,
            "description_tooltip": null,
            "_model_module": "@jupyter-widgets/controls",
            "layout": "IPY_MODEL_c84166a78b124386b2bdbdbd1d57ba19"
          }
        },
        "d99bb20e62704c118c212d94e1803ed6": {
          "model_module": "@jupyter-widgets/controls",
          "model_name": "HTMLModel",
          "state": {
            "_view_name": "HTMLView",
            "style": "IPY_MODEL_c51e9ce045ea4652b5d89a7aca530860",
            "_dom_classes": [],
            "description": "",
            "_model_name": "HTMLModel",
            "placeholder": "​",
            "_view_module": "@jupyter-widgets/controls",
            "_model_module_version": "1.5.0",
            "value": " 1.65G/1.65G [00:25&lt;00:00, 65.7MB/s]",
            "_view_count": null,
            "_view_module_version": "1.5.0",
            "description_tooltip": null,
            "_model_module": "@jupyter-widgets/controls",
            "layout": "IPY_MODEL_01b972076e1f4914ae44b2674b0d82cc"
          }
        },
        "9aab0bb335e04672ba3c16599d7ce86e": {
          "model_module": "@jupyter-widgets/controls",
          "model_name": "ProgressStyleModel",
          "state": {
            "_view_name": "StyleView",
            "_model_name": "ProgressStyleModel",
            "description_width": "initial",
            "_view_module": "@jupyter-widgets/base",
            "_model_module_version": "1.5.0",
            "_view_count": null,
            "_view_module_version": "1.2.0",
            "bar_color": null,
            "_model_module": "@jupyter-widgets/controls"
          }
        },
        "c84166a78b124386b2bdbdbd1d57ba19": {
          "model_module": "@jupyter-widgets/base",
          "model_name": "LayoutModel",
          "state": {
            "_view_name": "LayoutView",
            "grid_template_rows": null,
            "right": null,
            "justify_content": null,
            "_view_module": "@jupyter-widgets/base",
            "overflow": null,
            "_model_module_version": "1.2.0",
            "_view_count": null,
            "flex_flow": null,
            "width": null,
            "min_width": null,
            "border": null,
            "align_items": null,
            "bottom": null,
            "_model_module": "@jupyter-widgets/base",
            "top": null,
            "grid_column": null,
            "overflow_y": null,
            "overflow_x": null,
            "grid_auto_flow": null,
            "grid_area": null,
            "grid_template_columns": null,
            "flex": null,
            "_model_name": "LayoutModel",
            "justify_items": null,
            "grid_row": null,
            "max_height": null,
            "align_content": null,
            "visibility": null,
            "align_self": null,
            "height": null,
            "min_height": null,
            "padding": null,
            "grid_auto_rows": null,
            "grid_gap": null,
            "max_width": null,
            "order": null,
            "_view_module_version": "1.2.0",
            "grid_template_areas": null,
            "object_position": null,
            "object_fit": null,
            "grid_auto_columns": null,
            "margin": null,
            "display": null,
            "left": null
          }
        },
        "c51e9ce045ea4652b5d89a7aca530860": {
          "model_module": "@jupyter-widgets/controls",
          "model_name": "DescriptionStyleModel",
          "state": {
            "_view_name": "StyleView",
            "_model_name": "DescriptionStyleModel",
            "description_width": "",
            "_view_module": "@jupyter-widgets/base",
            "_model_module_version": "1.5.0",
            "_view_count": null,
            "_view_module_version": "1.2.0",
            "_model_module": "@jupyter-widgets/controls"
          }
        },
        "01b972076e1f4914ae44b2674b0d82cc": {
          "model_module": "@jupyter-widgets/base",
          "model_name": "LayoutModel",
          "state": {
            "_view_name": "LayoutView",
            "grid_template_rows": null,
            "right": null,
            "justify_content": null,
            "_view_module": "@jupyter-widgets/base",
            "overflow": null,
            "_model_module_version": "1.2.0",
            "_view_count": null,
            "flex_flow": null,
            "width": null,
            "min_width": null,
            "border": null,
            "align_items": null,
            "bottom": null,
            "_model_module": "@jupyter-widgets/base",
            "top": null,
            "grid_column": null,
            "overflow_y": null,
            "overflow_x": null,
            "grid_auto_flow": null,
            "grid_area": null,
            "grid_template_columns": null,
            "flex": null,
            "_model_name": "LayoutModel",
            "justify_items": null,
            "grid_row": null,
            "max_height": null,
            "align_content": null,
            "visibility": null,
            "align_self": null,
            "height": null,
            "min_height": null,
            "padding": null,
            "grid_auto_rows": null,
            "grid_gap": null,
            "max_width": null,
            "order": null,
            "_view_module_version": "1.2.0",
            "grid_template_areas": null,
            "object_position": null,
            "object_fit": null,
            "grid_auto_columns": null,
            "margin": null,
            "display": null,
            "left": null
          }
        }
      }
    }
  },
  "cells": [
    {
      "cell_type": "markdown",
      "metadata": {
        "id": "view-in-github",
        "colab_type": "text"
      },
      "source": [
        "<a href=\"https://colab.research.google.com/github/melenkok/hse-NLP/blob/master/Embeddings.ipynb\" target=\"_parent\"><img src=\"https://colab.research.google.com/assets/colab-badge.svg\" alt=\"Open In Colab\"/></a>"
      ]
    },
    {
      "cell_type": "markdown",
      "metadata": {
        "id": "8rNcpTajxOzw",
        "colab_type": "text"
      },
      "source": [
        "# Find duplicate questions on StackOverflow by their embeddings\n",
        "\n",
        "In this assignment you will learn how to calculate a similarity for pieces of text. Using this approach you will know how to find duplicate questions from [StackOverflow](https://stackoverflow.com)."
      ]
    },
    {
      "cell_type": "markdown",
      "metadata": {
        "id": "nyLPf-y5xOzz",
        "colab_type": "text"
      },
      "source": [
        "### Libraries\n",
        "\n",
        "In this task you will you will need the following libraries:\n",
        "- [StarSpace](https://github.com/facebookresearch/StarSpace) — a general-purpose model for efficient learning of entity embeddings from Facebook\n",
        "- [Gensim](https://radimrehurek.com/gensim/) — a tool for solving various NLP-related tasks (topic modeling, text representation, ...)\n",
        "- [Numpy](http://www.numpy.org) — a package for scientific computing.\n",
        "- [scikit-learn](http://scikit-learn.org/stable/index.html) — a tool for data mining and data analysis.\n",
        "- [Nltk](http://www.nltk.org) — a platform to work with human language data."
      ]
    },
    {
      "cell_type": "markdown",
      "metadata": {
        "id": "OacSdwcaxOz1",
        "colab_type": "text"
      },
      "source": [
        "### Data\n",
        "\n",
        "The following cell will download all data required for this assignment into the folder `week3/data`."
      ]
    },
    {
      "cell_type": "code",
      "metadata": {
        "id": "GCLEl0AsxSsn",
        "colab_type": "code",
        "outputId": "9fcdf924-422f-4957-ef7e-c99314777941",
        "colab": {
          "base_uri": "https://localhost:8080/",
          "height": 224
        }
      },
      "source": [
        "! wget https://raw.githubusercontent.com/hse-aml/natural-language-processing/master/setup_google_colab.py -O setup_google_colab.py\n",
        "import setup_google_colab\n",
        "# please, uncomment the week you're working on\n",
        "# setup_google_colab.setup_week1()  \n",
        "# setup_google_colab.setup_week2()\n",
        "setup_google_colab.setup_week3()\n",
        "# setup_google_colab.setup_week4()\n",
        "# setup_google_colab.setup_project()\n",
        "# setup_google_colab.setup_honor()"
      ],
      "execution_count": 0,
      "outputs": [
        {
          "output_type": "stream",
          "text": [
            "--2020-04-15 13:05:34--  https://raw.githubusercontent.com/hse-aml/natural-language-processing/master/setup_google_colab.py\n",
            "Resolving raw.githubusercontent.com (raw.githubusercontent.com)... 151.101.0.133, 151.101.64.133, 151.101.128.133, ...\n",
            "Connecting to raw.githubusercontent.com (raw.githubusercontent.com)|151.101.0.133|:443... connected.\n",
            "HTTP request sent, awaiting response... 200 OK\n",
            "Length: 1991 (1.9K) [text/plain]\n",
            "Saving to: ‘setup_google_colab.py’\n",
            "\n",
            "\rsetup_google_colab.   0%[                    ]       0  --.-KB/s               \rsetup_google_colab. 100%[===================>]   1.94K  --.-KB/s    in 0s      \n",
            "\n",
            "2020-04-15 13:05:34 (12.5 MB/s) - ‘setup_google_colab.py’ saved [1991/1991]\n",
            "\n"
          ],
          "name": "stdout"
        }
      ]
    },
    {
      "cell_type": "code",
      "metadata": {
        "id": "atCFA-8vxOz2",
        "colab_type": "code",
        "outputId": "be6e723e-59ab-4a4d-f4a8-941bccc9b2bd",
        "colab": {
          "base_uri": "https://localhost:8080/",
          "height": 279,
          "referenced_widgets": [
            "a9cbe7b24a0c490794b51bac7041b6b9",
            "58736f0775a0472ab13a44123c87384d",
            "d4df29cb46d544d9949be4f6de0b92d9",
            "447c0fe8009543d7bfac7c9565b8f46d",
            "36a256513116488ca85dc965023a37e5",
            "0fae1fa25ea74788bb90559e93a29aa2",
            "13e176012b314fce8e8f8a3d010edf66",
            "5ae196ade2004430b121509783007e07",
            "35786ff3fde24f09a8c7ec061ce5e326",
            "a92f369bc7174b36840a33944c0a098d",
            "d1e9f229decb4bf290c4689fdf05b78f",
            "6815f432d8b44d13b069d4086b0548a6",
            "4a9436a785f74df6998c910ddfcefb5f",
            "911182047b014e53ab2d254edf623705",
            "4046a55f94ec41e8b9e2d6f7279df19d",
            "8517b9696cd94a22aa2dba56397ff4ae",
            "3831a465634c441a8903cd1ca996aff2",
            "b9b6a2c978de40a3a471adfec6e7f2a4",
            "14310bf631584dcdb8880167caa2aa0d",
            "9659bd9821b84bbcac07ad581913d816",
            "e789b6976d664cd4960d3f6c43f4779d",
            "69f38c518c7b47f086abc31076e5e983",
            "5d728b09251b4c3c860f78aeb859c7c9",
            "e00690654e9544c48b7e13ae7c9c8826",
            "13eb9f51626f4565b067a21d7f2cfe50",
            "cd927f6553ce4681a6bd878c6cbcc898",
            "690b898e654544efab24ec77c4c1f84e",
            "4c2696876b4548669078e8b472d00a42",
            "4e94724b31734f4d8849d5b1d480999e",
            "4ffc4ce35cb8474cb68196665c9f5ec2",
            "615dd998e0c9465d93f90ac46065b8c5",
            "baf8818d081c42eebf4eb9908927698c",
            "d03af99c730f4297af4f5e7b4cd17c7c",
            "8d973c0364384d378e2e23efd1f69d09",
            "1f019b82e5eb4372846cecbee6cdcb04",
            "d99bb20e62704c118c212d94e1803ed6",
            "9aab0bb335e04672ba3c16599d7ce86e",
            "c84166a78b124386b2bdbdbd1d57ba19",
            "c51e9ce045ea4652b5d89a7aca530860",
            "01b972076e1f4914ae44b2674b0d82cc"
          ]
        }
      },
      "source": [
        "import sys\n",
        "sys.path.append(\"..\")\n",
        "from common.download_utils import download_week3_resources\n",
        "\n",
        "download_week3_resources()"
      ],
      "execution_count": 0,
      "outputs": [
        {
          "output_type": "display_data",
          "data": {
            "application/vnd.jupyter.widget-view+json": {
              "model_id": "a9cbe7b24a0c490794b51bac7041b6b9",
              "version_minor": 0,
              "version_major": 2
            },
            "text/plain": [
              "HBox(children=(FloatProgress(value=0.0, max=119127793.0), HTML(value='')))"
            ]
          },
          "metadata": {
            "tags": []
          }
        },
        {
          "output_type": "stream",
          "text": [
            "\n"
          ],
          "name": "stdout"
        },
        {
          "output_type": "display_data",
          "data": {
            "application/vnd.jupyter.widget-view+json": {
              "model_id": "35786ff3fde24f09a8c7ec061ce5e326",
              "version_minor": 0,
              "version_major": 2
            },
            "text/plain": [
              "HBox(children=(FloatProgress(value=0.0, max=535543630.0), HTML(value='')))"
            ]
          },
          "metadata": {
            "tags": []
          }
        },
        {
          "output_type": "stream",
          "text": [
            "\n"
          ],
          "name": "stdout"
        },
        {
          "output_type": "display_data",
          "data": {
            "application/vnd.jupyter.widget-view+json": {
              "model_id": "3831a465634c441a8903cd1ca996aff2",
              "version_minor": 0,
              "version_major": 2
            },
            "text/plain": [
              "HBox(children=(FloatProgress(value=0.0, max=46408910.0), HTML(value='')))"
            ]
          },
          "metadata": {
            "tags": []
          }
        },
        {
          "output_type": "stream",
          "text": [
            "\n"
          ],
          "name": "stdout"
        },
        {
          "output_type": "display_data",
          "data": {
            "application/vnd.jupyter.widget-view+json": {
              "model_id": "13eb9f51626f4565b067a21d7f2cfe50",
              "version_minor": 0,
              "version_major": 2
            },
            "text/plain": [
              "HBox(children=(FloatProgress(value=0.0, max=5333.0), HTML(value='')))"
            ]
          },
          "metadata": {
            "tags": []
          }
        },
        {
          "output_type": "stream",
          "text": [
            "\n",
            "Downloading GoogleNews-vectors-negative300.bin.gz (1.5G) for you, it will take a while...\n"
          ],
          "name": "stdout"
        },
        {
          "output_type": "display_data",
          "data": {
            "application/vnd.jupyter.widget-view+json": {
              "model_id": "d03af99c730f4297af4f5e7b4cd17c7c",
              "version_minor": 0,
              "version_major": 2
            },
            "text/plain": [
              "HBox(children=(FloatProgress(value=0.0, max=1647046227.0), HTML(value='')))"
            ]
          },
          "metadata": {
            "tags": []
          }
        },
        {
          "output_type": "stream",
          "text": [
            "\n"
          ],
          "name": "stdout"
        }
      ]
    },
    {
      "cell_type": "markdown",
      "metadata": {
        "id": "CP7IRscDxOz8",
        "colab_type": "text"
      },
      "source": [
        "### Grading\n",
        "We will create a grader instace below and use it to collect your answers. Note that these outputs will be stored locally inside grader and will be uploaded to platform only after running submiting function in the last part of this assignment. If you want to make partial submission, you can run that cell any time you want."
      ]
    },
    {
      "cell_type": "code",
      "metadata": {
        "id": "EsViRxNOxOz9",
        "colab_type": "code",
        "colab": {}
      },
      "source": [
        "from grader import Grader"
      ],
      "execution_count": 0,
      "outputs": []
    },
    {
      "cell_type": "code",
      "metadata": {
        "id": "PKJ7T-RrxO0A",
        "colab_type": "code",
        "colab": {}
      },
      "source": [
        "grader = Grader()"
      ],
      "execution_count": 0,
      "outputs": []
    },
    {
      "cell_type": "markdown",
      "metadata": {
        "id": "_Vp4tKAQxO0F",
        "colab_type": "text"
      },
      "source": [
        "## Word embedding\n",
        "\n",
        "To solve the problem, you will use two different models of embeddings:\n",
        "\n",
        " - [Pre-trained word vectors](https://code.google.com/archive/p/word2vec/) from Google which were trained on a part of Google News dataset (about 100 billion words). The model contains 300-dimensional vectors for 3 million words and phrases. `GoogleNews-vectors-negative300.bin.gz` will be downloaded in `download_week3_resources()`.\n",
        " - Representations using StarSpace on StackOverflow data sample. You will need to train them from scratch."
      ]
    },
    {
      "cell_type": "markdown",
      "metadata": {
        "id": "RaVfFak9xO0G",
        "colab_type": "text"
      },
      "source": [
        "It's always easier to start with pre-trained embeddings. Unpack the pre-trained Goggle's vectors and upload them using the function [KeyedVectors.load_word2vec_format](https://radimrehurek.com/gensim/models/keyedvectors.html) from gensim library with the parameter *binary=True*. If the size of the embeddings is larger than the avaliable memory, you could load only a part of the embeddings by defining the parameter *limit* (recommended: 500000)."
      ]
    },
    {
      "cell_type": "code",
      "metadata": {
        "id": "_xdn-Y3jxO0G",
        "colab_type": "code",
        "colab": {}
      },
      "source": [
        "import gensim"
      ],
      "execution_count": 0,
      "outputs": []
    },
    {
      "cell_type": "code",
      "metadata": {
        "id": "UWGKllZQ1Q3z",
        "colab_type": "code",
        "colab": {}
      },
      "source": [
        "from gensim.models import KeyedVectors\n",
        "from gensim.test.utils import datapath"
      ],
      "execution_count": 0,
      "outputs": []
    },
    {
      "cell_type": "code",
      "metadata": {
        "id": "PNHZrJIUxO0J",
        "colab_type": "code",
        "colab": {}
      },
      "source": [
        "wv_embeddings = KeyedVectors.load_word2vec_format(datapath(\"/content/GoogleNews-vectors-negative300.bin.gz\"), binary=True)"
      ],
      "execution_count": 0,
      "outputs": []
    },
    {
      "cell_type": "markdown",
      "metadata": {
        "id": "ikPu91mXxO0N",
        "colab_type": "text"
      },
      "source": [
        "### How to work with Google's word2vec embeddings?\n",
        "\n",
        "Once you have loaded the representations, make sure you can access them. First, you can check if the loaded embeddings contain a word:\n",
        "    \n",
        "    'word' in wv_embeddings\n",
        "    \n",
        "Second, to get the corresponding embedding you can use the square brackets:\n",
        "\n",
        "    wv_embeddings['word']\n",
        " \n",
        "### Checking that the embeddings are correct \n",
        " \n",
        "To prevent any errors during the first stage, we can check that the loaded embeddings are correct. You can call the function *check_embeddings*, implemented below, which runs 3 tests:\n",
        "1. Find the most similar word for provided \"positive\" and \"negative\" words.\n",
        "2. Find which word from the given list doesn’t go with the others.\n",
        "3. Find the most similar word for the provided one.\n",
        "\n",
        "In the right case the function will return the string *These embeddings look good*. Othervise, you need to validate the previous steps."
      ]
    },
    {
      "cell_type": "code",
      "metadata": {
        "id": "cw_S1oIsxO0O",
        "colab_type": "code",
        "colab": {}
      },
      "source": [
        "def check_embeddings(embeddings):\n",
        "    error_text = \"Something wrong with your embeddings ('%s test isn't correct).\"\n",
        "    most_similar = embeddings.most_similar(positive=['woman', 'king'], negative=['man'])\n",
        "    if len(most_similar) < 1 or most_similar[0][0] != 'queen':\n",
        "        return error_text % \"Most similar\"\n",
        "\n",
        "    doesnt_match = embeddings.doesnt_match(['breakfast', 'cereal', 'dinner', 'lunch'])\n",
        "    if doesnt_match != 'cereal':\n",
        "        return error_text % \"Doesn't match\"\n",
        "    \n",
        "    most_similar_to_given = embeddings.most_similar_to_given('music', ['water', 'sound', 'backpack', 'mouse'])\n",
        "    if most_similar_to_given != 'sound':\n",
        "        return error_text % \"Most similar to given\"\n",
        "    \n",
        "    return \"These embeddings look good.\""
      ],
      "execution_count": 0,
      "outputs": []
    },
    {
      "cell_type": "code",
      "metadata": {
        "id": "lx1fV2vwxO0X",
        "colab_type": "code",
        "outputId": "8d77acc1-1671-4fa3-d497-32b9bbae2c26",
        "colab": {
          "base_uri": "https://localhost:8080/",
          "height": 88
        }
      },
      "source": [
        "print(check_embeddings(wv_embeddings))"
      ],
      "execution_count": 0,
      "outputs": [
        {
          "output_type": "stream",
          "text": [
            "These embeddings look good.\n"
          ],
          "name": "stdout"
        },
        {
          "output_type": "stream",
          "text": [
            "/usr/local/lib/python3.6/dist-packages/gensim/models/keyedvectors.py:877: FutureWarning: arrays to stack must be passed as a \"sequence\" type such as list or tuple. Support for non-sequence iterables such as generators is deprecated as of NumPy 1.16 and will raise an error in the future.\n",
            "  vectors = vstack(self.word_vec(word, use_norm=True) for word in used_words).astype(REAL)\n"
          ],
          "name": "stderr"
        }
      ]
    },
    {
      "cell_type": "markdown",
      "metadata": {
        "id": "cjU1dt0yxO0a",
        "colab_type": "text"
      },
      "source": [
        "## From word to text embeddings\n",
        "\n",
        "**Task 1 (Question2Vec).** Usually, we have word-based embeddings, but for the task we need to create a representation for the whole question. It could be done in different ways. In our case we will use a **mean** of all word vectors in the question. Now you need to implement the function *question_to_vec*, which calculates the question representation described above. This function should work with the input text as is without any preprocessing.\n",
        "\n",
        "Note that there could be words without the corresponding embeddings. In this case, you can just skip these words and don't take them into account during calculating the result. If the question doesn't contain any known word with embedding, the function should return a zero vector."
      ]
    },
    {
      "cell_type": "code",
      "metadata": {
        "id": "-13-Mw1LxO0a",
        "colab_type": "code",
        "colab": {}
      },
      "source": [
        "import numpy as np"
      ],
      "execution_count": 0,
      "outputs": []
    },
    {
      "cell_type": "code",
      "metadata": {
        "id": "T9Lsydo_xO0e",
        "colab_type": "code",
        "colab": {}
      },
      "source": [
        "def question_to_vec(question, embeddings, dim=300):\n",
        "    \"\"\"\n",
        "        question: a string\n",
        "        embeddings: dict where the key is a word and a value is its' embedding\n",
        "        dim: size of the representation\n",
        "\n",
        "        result: vector representation for the question\n",
        "    \"\"\"\n",
        "    result = np.zeros((dim,) , dtype=np.float32)\n",
        "    count = 0\n",
        "\n",
        "    for word in question.split():\n",
        "      if word in embeddings:\n",
        "        count += 1\n",
        "        result += embeddings[word]\n",
        "\n",
        "    if count == 0:\n",
        "      return result\n",
        "    return result/count\n"
      ],
      "execution_count": 0,
      "outputs": []
    },
    {
      "cell_type": "markdown",
      "metadata": {
        "id": "DBRrdfOFxO0l",
        "colab_type": "text"
      },
      "source": [
        "To check the basic correctness of your implementation, run the function *question_to_vec_tests*."
      ]
    },
    {
      "cell_type": "code",
      "metadata": {
        "id": "R5K4L2l7xO0m",
        "colab_type": "code",
        "colab": {}
      },
      "source": [
        "def question_to_vec_tests():\n",
        "    if (np.zeros(300) != question_to_vec('', wv_embeddings)).any():\n",
        "        return \"You need to return zero vector for empty question.\"\n",
        "    if (np.zeros(300) != question_to_vec('thereisnosuchword', wv_embeddings)).any():\n",
        "        return \"You need to return zero vector for the question, which consists only unknown words.\"\n",
        "    if (wv_embeddings['word'] != question_to_vec('word', wv_embeddings)).any():\n",
        "        return \"You need to check the corectness of your function.\"\n",
        "    if ((wv_embeddings['I'] + wv_embeddings['am']) / 2 != question_to_vec('I am', wv_embeddings)).any():\n",
        "        return \"Your function should calculate a mean of word vectors.\"\n",
        "    if (wv_embeddings['word'] != question_to_vec('thereisnosuchword word', wv_embeddings)).any():\n",
        "        return \"You should not consider words which embeddings are unknown.\"\n",
        "    return \"Basic tests are passed.\""
      ],
      "execution_count": 0,
      "outputs": []
    },
    {
      "cell_type": "code",
      "metadata": {
        "id": "odha_nLUxO0p",
        "colab_type": "code",
        "outputId": "fdf1ef27-d8f0-46de-f292-558641a2dc75",
        "colab": {
          "base_uri": "https://localhost:8080/",
          "height": 34
        }
      },
      "source": [
        "print(question_to_vec_tests())"
      ],
      "execution_count": 0,
      "outputs": [
        {
          "output_type": "stream",
          "text": [
            "Basic tests are passed.\n"
          ],
          "name": "stdout"
        }
      ]
    },
    {
      "cell_type": "markdown",
      "metadata": {
        "id": "DJuyNK0IxO0t",
        "colab_type": "text"
      },
      "source": [
        "You can submit embeddings for the questions from the file *test_embeddings.tsv* to earn the points. In this task you don't need to transform the text of a question somehow."
      ]
    },
    {
      "cell_type": "code",
      "metadata": {
        "id": "JvR4ydq9xO0u",
        "colab_type": "code",
        "outputId": "4bc959d1-4950-4ec8-e49b-c9874438f782",
        "colab": {
          "base_uri": "https://localhost:8080/",
          "height": 51
        }
      },
      "source": [
        "import nltk\n",
        "nltk.download('stopwords')\n",
        "from util import array_to_string"
      ],
      "execution_count": 0,
      "outputs": [
        {
          "output_type": "stream",
          "text": [
            "[nltk_data] Downloading package stopwords to /root/nltk_data...\n",
            "[nltk_data]   Unzipping corpora/stopwords.zip.\n"
          ],
          "name": "stderr"
        }
      ]
    },
    {
      "cell_type": "code",
      "metadata": {
        "id": "sF9_boXExO0z",
        "colab_type": "code",
        "outputId": "280b06b2-d3fc-4f88-e886-3014047cdf73",
        "colab": {
          "base_uri": "https://localhost:8080/",
          "height": 119
        }
      },
      "source": [
        "question2vec_result = []\n",
        "for question in open('data/test_embeddings.tsv'):\n",
        "    question = question.strip()\n",
        "    answer = question_to_vec(question, wv_embeddings)\n",
        "    question2vec_result = np.append(question2vec_result, answer)\n",
        "\n",
        "grader.submit_tag('Question2Vec', array_to_string(question2vec_result))"
      ],
      "execution_count": 0,
      "outputs": [
        {
          "output_type": "stream",
          "text": [
            "Current answer for task Question2Vec is: 0.01929389126598835\n",
            "-0.02872721292078495\n",
            "0.0460561104118824\n",
            "0.0852593332529068\n",
            "0.0243055559694767\n",
            "-0...\n"
          ],
          "name": "stdout"
        }
      ]
    },
    {
      "cell_type": "markdown",
      "metadata": {
        "id": "OrSCNX_rxO02",
        "colab_type": "text"
      },
      "source": [
        "Now we have a method to create a representation of any sentence and we are ready for the first evaluation. So, let's check how well our solution (Google's vectors + *question_to_vec*) will work.\n",
        "\n",
        "## Evaluation of text similarity\n",
        "\n",
        "We can imagine that if we use good embeddings, the cosine similarity between the duplicate sentences should be less than for the random ones. Overall, for each pair of duplicate sentences we can generate *R* random negative examples and find out the position of the correct duplicate.  \n",
        "\n",
        "For example, we have the question *\"Exceptions What really happens\"* and we are sure that another question *\"How does the catch keyword determine the type of exception that was thrown\"* is a duplicate. But our model doesn't know it and tries to find out the best option also among questions like *\"How Can I Make These Links Rotate in PHP\"*, *\"NSLog array description not memory address\"* and *\"PECL_HTTP not recognised php ubuntu\"*. The goal of the model is to rank all these 4 questions (1 *positive* and *R* = 3 *negative*) in the way that the correct one is in the first place.\n",
        "\n",
        "However, it is unnatural to count on that the best candidate will be always in the first place. So let us consider the place of the best candidate in the sorted list of candidates and formulate a metric based on it. We can fix some *K* — a reasonalble number of top-ranked elements and *N* — a number of queries (size of the sample).\n",
        "\n",
        "### Hits@K\n",
        "\n",
        "The first simple metric will be a number of correct hits for some *K*:\n",
        "$$ \\text{Hits@K} = \\frac{1}{N}\\sum_{i=1}^N \\, [dup_i \\in topK(q_i)]$$\n",
        "\n",
        "where $q_i$ is the i-th query, $dup_i$ is its duplicate, $topK(q_i)$ is the top K elements of the ranked sentences provided by our model and the operation $[dup_i \\in topK(q_i)]$ equals 1 if the condition is true and 0 otherwise (more details about this operation could be found [here](https://en.wikipedia.org/wiki/Iverson_bracket)).\n",
        "\n",
        "\n",
        "### DCG@K\n",
        "The second one is a simplified [DCG metric](https://en.wikipedia.org/wiki/Discounted_cumulative_gain):\n",
        "\n",
        "$$ \\text{DCG@K} = \\frac{1}{N} \\sum_{i=1}^N\\frac{1}{\\log_2(1+rank_{dup_i})}\\cdot[rank_{dup_i} \\le K] $$\n",
        "\n",
        "where $rank_{dup_i}$ is a position of the duplicate in the sorted list of the nearest sentences for the query $q_i$. According to this metric, the model gets a higher reward for a higher position of the correct answer. If the answer does not appear in topK at all, the reward is zero. "
      ]
    },
    {
      "cell_type": "markdown",
      "metadata": {
        "id": "PCn5l5GyxO03",
        "colab_type": "text"
      },
      "source": [
        "### Evaluation examples\n",
        "\n",
        "Let's calculate the described metrics for the toy example introduced above. In this case $N$ = 1 and the correct candidate for $q_1$ is *\"How does the catch keyword determine the type of exception that was thrown\"*. Consider the following ranking of the candidates:\n",
        "1. *\"How Can I Make These Links Rotate in PHP\"*\n",
        "2. *\"How does the catch keyword determine the type of exception that was thrown\"*\n",
        "3. *\"NSLog array description not memory address\"*\n",
        "4. *\"PECL_HTTP not recognised php ubuntu\"*\n",
        "\n",
        "Using the ranking above, calculate *Hits@K* metric for *K = 1, 2, 4*: \n",
        " \n",
        "- [K = 1] $\\text{Hits@1} = \\frac{1}{1}\\sum_{i=1}^1 \\, [dup_i \\in top1(q_i)] = [dup_1 \\in top1(q_1)] = 0$ because the correct answer doesn't appear in the *top1* list.\n",
        "- [K = 2] $\\text{Hits@2} = \\frac{1}{1}\\sum_{i=1}^1 \\, [dup_i \\in top2(q_i)] = [dup_1 \\in top2(q_1)] = 1$ because $rank_{dup_1} = 2$.\n",
        "- [K = 4] $\\text{Hits@4} = \\frac{1}{1}\\sum_{i=1}^1 \\, [dup_i \\in top4(q_i)] = [dup_1 \\in top4(q_1)] = 1$\n",
        "\n",
        "Using the ranking above, calculate *DCG@K* metric for *K = 1, 2, 4*:\n",
        "\n",
        "- [K = 1] $\\text{DCG@1} = \\frac{1}{1} \\sum_{i=1}^1\\frac{1}{\\log_2(1+rank_{dup_i})}\\cdot[rank_{dup_i} \\le 1] = \\frac{1}{\\log_2(1+rank_{dup_i})}\\cdot[rank_{dup_i} \\le 1] = 0$ because the correct answer doesn't appear in the top1 list.\n",
        "- [K = 2] $\\text{DCG@2} = \\frac{1}{1} \\sum_{i=1}^1\\frac{1}{\\log_2(1+rank_{dup_i})}\\cdot[rank_{dup_i} \\le 2] = \\frac{1}{\\log_2{3}}$, because $rank_{dup_1} = 2$.\n",
        "- [K = 4] $\\text{DCG@4} = \\frac{1}{1} \\sum_{i=1}^1\\frac{1}{\\log_2(1+rank_{dup_i})}\\cdot[rank_{dup_i} \\le 4] = \\frac{1}{\\log_2{3}}$.\n"
      ]
    },
    {
      "cell_type": "markdown",
      "metadata": {
        "id": "i3jq2nDuxO03",
        "colab_type": "text"
      },
      "source": [
        "**Tasks 2 and 3 (HitsCount and DCGScore).** Implement the functions *hits_count* and *dcg_score* as described above. Each function has two arguments: *dup_ranks* and *k*. *dup_ranks* is a list which contains *values of ranks* of duplicates. For example, *dup_ranks* is *[2]* for the example provided above."
      ]
    },
    {
      "cell_type": "code",
      "metadata": {
        "id": "ziUttCkHxO04",
        "colab_type": "code",
        "colab": {}
      },
      "source": [
        "def hits_count(dup_ranks, k):\n",
        "    \"\"\"\n",
        "        dup_ranks: list of duplicates' ranks; one rank per question; \n",
        "                   length is a number of questions which we are looking for duplicates; \n",
        "                   rank is a number from 1 to len(candidates of the question); \n",
        "                   e.g. [2, 3] means that the first duplicate has the rank 2, the second one — 3.\n",
        "        k: number of top-ranked elements (k in Hits@k metric)\n",
        "\n",
        "        result: return Hits@k value for current ranking\n",
        "    \"\"\"\n",
        "    count = 0\n",
        "    for i in dup_ranks:\n",
        "      if i <= k:\n",
        "        count += 1\n",
        "    \n",
        "    return count / (len(dup_ranks) + 1e-8)"
      ],
      "execution_count": 0,
      "outputs": []
    },
    {
      "cell_type": "markdown",
      "metadata": {
        "id": "__27jkdyxO06",
        "colab_type": "text"
      },
      "source": [
        "Test your code on the tiny examples:"
      ]
    },
    {
      "cell_type": "code",
      "metadata": {
        "id": "DXslHpo8xO06",
        "colab_type": "code",
        "colab": {}
      },
      "source": [
        "def test_hits():\n",
        "    # *Evaluation example*\n",
        "    # answers — dup_i\n",
        "    answers = [\"How does the catch keyword determine the type of exception that was thrown\"]\n",
        "    \n",
        "    # candidates_ranking — the ranked sentences provided by our model\n",
        "    candidates_ranking = [[\"How Can I Make These Links Rotate in PHP\", \n",
        "                           \"How does the catch keyword determine the type of exception that was thrown\",\n",
        "                           \"NSLog array description not memory address\",\n",
        "                           \"PECL_HTTP not recognised php ubuntu\"]]\n",
        "    # dup_ranks — position of the dup_i in the list of ranks +1\n",
        "    dup_ranks = [candidates_ranking[i].index(answers[i]) + 1 for i in range(len(answers))]\n",
        "    \n",
        "    # correct_answers — the expected values of the result for each k from 1 to 4\n",
        "    correct_answers = [0, 1, 1, 1]\n",
        "    for k, correct in enumerate(correct_answers, 1):\n",
        "        if not np.isclose(hits_count(dup_ranks, k), correct):\n",
        "            return \"Check the function.\"\n",
        "    \n",
        "    # Other tests\n",
        "    answers = [\"How does the catch keyword determine the type of exception that was thrown\", \n",
        "               \"Convert Google results object (pure js) to Python object\"]\n",
        "    \n",
        "    # The first test: both duplicates on the first position in ranked list\n",
        "    candidates_ranking = [[\"How does the catch keyword determine the type of exception that was thrown\",\n",
        "                           \"How Can I Make These Links Rotate in PHP\"], \n",
        "                          [\"Convert Google results object (pure js) to Python object\",\n",
        "                           \"WPF- How to update the changes in list item of a list\"]]\n",
        "    dup_ranks = [candidates_ranking[i].index(answers[i]) + 1 for i in range(len(answers))]\n",
        "    correct_answers = [1, 1]\n",
        "    for k, correct in enumerate(correct_answers, 1):\n",
        "        if not np.isclose(hits_count(dup_ranks, k), correct):\n",
        "            return \"Check the function (test: both duplicates on the first position in ranked list).\"\n",
        "        \n",
        "    # The second test: one candidate on the first position, another — on the second\n",
        "    candidates_ranking = [[\"How Can I Make These Links Rotate in PHP\", \n",
        "                           \"How does the catch keyword determine the type of exception that was thrown\"], \n",
        "                          [\"Convert Google results object (pure js) to Python object\",\n",
        "                           \"WPF- How to update the changes in list item of a list\"]]\n",
        "    dup_ranks = [candidates_ranking[i].index(answers[i]) + 1 for i in range(len(answers))]\n",
        "    correct_answers = [0.5, 1]\n",
        "    for k, correct in enumerate(correct_answers, 1):\n",
        "        if not np.isclose(hits_count(dup_ranks, k), correct):\n",
        "            return \"Check the function (test: one candidate on the first position, another — on the second).\"\n",
        "\n",
        "    # The third test: both candidates on the second position\n",
        "    candidates_ranking = [[\"How Can I Make These Links Rotate in PHP\", \n",
        "                           \"How does the catch keyword determine the type of exception that was thrown\"], \n",
        "                          [\"WPF- How to update the changes in list item of a list\",\n",
        "                           \"Convert Google results object (pure js) to Python object\"]]\n",
        "    dup_ranks = [candidates_ranking[i].index(answers[i]) + 1 for i in range(len(answers))]\n",
        "    correct_answers = [0, 1]\n",
        "    for k, correct in enumerate(correct_answers, 1):\n",
        "        if not np.isclose(hits_count(dup_ranks, k), correct):\n",
        "            return \"Check the function (test: both candidates on the second position).\"\n",
        "\n",
        "    return \"Basic test are passed.\""
      ],
      "execution_count": 0,
      "outputs": []
    },
    {
      "cell_type": "code",
      "metadata": {
        "id": "VMc3VLeKxO09",
        "colab_type": "code",
        "outputId": "74d237df-d5ef-4e6c-ee94-a7be48b01e0b",
        "colab": {
          "base_uri": "https://localhost:8080/",
          "height": 34
        }
      },
      "source": [
        "print(test_hits())"
      ],
      "execution_count": 0,
      "outputs": [
        {
          "output_type": "stream",
          "text": [
            "Basic test are passed.\n"
          ],
          "name": "stdout"
        }
      ]
    },
    {
      "cell_type": "code",
      "metadata": {
        "id": "mTXFnbXnxO1A",
        "colab_type": "code",
        "colab": {}
      },
      "source": [
        "def dcg_score(dup_ranks, k):\n",
        "    \"\"\"\n",
        "        dup_ranks: list of duplicates' ranks; one rank per question; \n",
        "                   length is a number of questions which we are looking for duplicates; \n",
        "                   rank is a number from 1 to len(candidates of the question); \n",
        "                   e.g. [2, 3] means that the first duplicate has the rank 2, the second one — 3.\n",
        "        k: number of top-ranked elements (k in DCG@k metric)\n",
        "\n",
        "        result: return DCG@k value for current ranking\n",
        "    \"\"\"\n",
        "    count = 0\n",
        "    result = 0\n",
        "    for i in dup_ranks:\n",
        "      if i<= k:\n",
        "        result += 1 / np.log2(1 + i)\n",
        "        count += 1\n",
        "\n",
        "    return result/ ( len(dup_ranks) + 1e-8 )"
      ],
      "execution_count": 0,
      "outputs": []
    },
    {
      "cell_type": "code",
      "metadata": {
        "id": "EJSApEsexO1C",
        "colab_type": "code",
        "colab": {}
      },
      "source": [
        "def test_dcg():\n",
        "    # *Evaluation example*\n",
        "    # answers — dup_i\n",
        "    answers = [\"How does the catch keyword determine the type of exception that was thrown\"]\n",
        "    \n",
        "    # candidates_ranking — the ranked sentences provided by our model\n",
        "    candidates_ranking = [[\"How Can I Make These Links Rotate in PHP\", \n",
        "                           \"How does the catch keyword determine the type of exception that was thrown\",\n",
        "                           \"NSLog array description not memory address\",\n",
        "                           \"PECL_HTTP not recognised php ubuntu\"]]\n",
        "    # dup_ranks — position of the dup_i in the list of ranks +1\n",
        "    dup_ranks = [candidates_ranking[i].index(answers[i]) + 1 for i in range(len(answers))]\n",
        "    \n",
        "    # correct_answers — the expected values of the result for each k from 1 to 4\n",
        "    correct_answers = [0, 1 / (np.log2(3)), 1 / (np.log2(3)), 1 / (np.log2(3))]\n",
        "    for k, correct in enumerate(correct_answers, 1):\n",
        "        if not np.isclose(dcg_score(dup_ranks, k), correct):\n",
        "            return \"Check the function.\"\n",
        "    \n",
        "    # Other tests\n",
        "    answers = [\"How does the catch keyword determine the type of exception that was thrown\", \n",
        "               \"Convert Google results object (pure js) to Python object\"]\n",
        "\n",
        "    # The first test: both duplicates on the first position in ranked list\n",
        "    candidates_ranking = [[\"How does the catch keyword determine the type of exception that was thrown\",\n",
        "                           \"How Can I Make These Links Rotate in PHP\"], \n",
        "                          [\"Convert Google results object (pure js) to Python object\",\n",
        "                           \"WPF- How to update the changes in list item of a list\"]]\n",
        "    dup_ranks = [candidates_ranking[i].index(answers[i]) + 1 for i in range(len(answers))]\n",
        "    correct_answers = [1, 1]\n",
        "    for k, correct in enumerate(correct_answers, 1):\n",
        "        if not np.isclose(dcg_score(dup_ranks, k), correct):\n",
        "            return \"Check the function (test: both duplicates on the first position in ranked list).\"\n",
        "        \n",
        "    # The second test: one candidate on the first position, another — on the second\n",
        "    candidates_ranking = [[\"How Can I Make These Links Rotate in PHP\", \n",
        "                           \"How does the catch keyword determine the type of exception that was thrown\"], \n",
        "                          [\"Convert Google results object (pure js) to Python object\",\n",
        "                           \"WPF- How to update the changes in list item of a list\"]]\n",
        "    dup_ranks = [candidates_ranking[i].index(answers[i]) + 1 for i in range(len(answers))]\n",
        "    correct_answers = [0.5, (1 + (1 / (np.log2(3)))) / 2]\n",
        "    for k, correct in enumerate(correct_answers, 1):\n",
        "        if not np.isclose(dcg_score(dup_ranks, k), correct):\n",
        "            return \"Check the function (test: one candidate on the first position, another — on the second).\"\n",
        "        \n",
        "    # The third test: both candidates on the second position\n",
        "    candidates_ranking = [[\"How Can I Make These Links Rotate in PHP\",\n",
        "                           \"How does the catch keyword determine the type of exception that was thrown\"], \n",
        "                          [\"WPF- How to update the changes in list item of a list\",\n",
        "                           \"Convert Google results object (pure js) to Python object\"]]\n",
        "    dup_ranks = [candidates_ranking[i].index(answers[i]) + 1 for i in range(len(answers))]\n",
        "    correct_answers = [0, 1 / (np.log2(3))]\n",
        "    for k, correct in enumerate(correct_answers, 1):\n",
        "        if not np.isclose(dcg_score(dup_ranks, k), correct):\n",
        "            return \"Check the function (test: both candidates on the second position).\"\n",
        "\n",
        "    return \"Basic test are passed.\""
      ],
      "execution_count": 0,
      "outputs": []
    },
    {
      "cell_type": "code",
      "metadata": {
        "id": "V_vQG8LsxO1F",
        "colab_type": "code",
        "outputId": "7e14350d-d8d4-47a3-a967-471068db642d",
        "colab": {
          "base_uri": "https://localhost:8080/",
          "height": 34
        }
      },
      "source": [
        "print(test_dcg())"
      ],
      "execution_count": 0,
      "outputs": [
        {
          "output_type": "stream",
          "text": [
            "Basic test are passed.\n"
          ],
          "name": "stdout"
        }
      ]
    },
    {
      "cell_type": "markdown",
      "metadata": {
        "id": "kpvmknuHxO1H",
        "colab_type": "text"
      },
      "source": [
        "Submit results of the functions *hits_count* and *dcg_score* for the following examples to earn the points."
      ]
    },
    {
      "cell_type": "code",
      "metadata": {
        "id": "7GYAszoNxO1H",
        "colab_type": "code",
        "colab": {}
      },
      "source": [
        "test_examples = [\n",
        "    [1],\n",
        "    [1, 2],\n",
        "    [2, 1],\n",
        "    [1, 2, 3],\n",
        "    [1, 2, 3, 4, 5, 6, 7, 8, 9, 10],\n",
        "    [9, 5, 4, 2, 8, 10, 7, 6, 1, 3],\n",
        "    [4, 3, 5, 1, 9, 10, 7, 8, 2, 6],\n",
        "    [5, 1, 7, 6, 2, 3, 8, 9, 10, 4],\n",
        "    [6, 3, 1, 4, 7, 2, 9, 8, 10, 5],\n",
        "    [10, 9, 8, 7, 6, 5, 4, 3, 2, 1],\n",
        "]"
      ],
      "execution_count": 0,
      "outputs": []
    },
    {
      "cell_type": "code",
      "metadata": {
        "id": "zc1KCh1ZxO1L",
        "colab_type": "code",
        "outputId": "cea3c029-a52c-4115-c691-27f78b567fd6",
        "colab": {
          "base_uri": "https://localhost:8080/",
          "height": 136
        }
      },
      "source": [
        "hits_results = []\n",
        "for example in test_examples:\n",
        "    for k in range(len(example)):\n",
        "        hits_results.append(hits_count(example, k + 1))\n",
        "grader.submit_tag('HitsCount', array_to_string(hits_results))"
      ],
      "execution_count": 0,
      "outputs": [
        {
          "output_type": "stream",
          "text": [
            "Current answer for task HitsCount is: 0.9999999900000002\n",
            "0.4999999975\n",
            "0.999999995\n",
            "0.4999999975\n",
            "0.999999995\n",
            "0.3333333322222222\n",
            "0.6666666644...\n"
          ],
          "name": "stdout"
        }
      ]
    },
    {
      "cell_type": "code",
      "metadata": {
        "id": "-jBLXv7vxO1R",
        "colab_type": "code",
        "outputId": "496341cc-f3e5-48e3-ee8e-d99ad9ba64df",
        "colab": {
          "base_uri": "https://localhost:8080/",
          "height": 119
        }
      },
      "source": [
        "dcg_results = []\n",
        "for example in test_examples:\n",
        "    for k in range(len(example)):\n",
        "        dcg_results.append(dcg_score(example, k + 1))\n",
        "grader.submit_tag('DCGScore', array_to_string(dcg_results))"
      ],
      "execution_count": 0,
      "outputs": [
        {
          "output_type": "stream",
          "text": [
            "Current answer for task DCGScore is: 0.9999999900000002\n",
            "0.4999999975\n",
            "0.8154648727084044\n",
            "0.4999999975\n",
            "0.8154648727084044\n",
            "0.333333332222222...\n"
          ],
          "name": "stdout"
        }
      ]
    },
    {
      "cell_type": "markdown",
      "metadata": {
        "id": "NpJJHZ-7xO1V",
        "colab_type": "text"
      },
      "source": [
        "##  First solution: pre-trained embeddings"
      ]
    },
    {
      "cell_type": "markdown",
      "metadata": {
        "id": "Los4MOgTxO1W",
        "colab_type": "text"
      },
      "source": [
        "We will work with predefined train, validation and test corpora. All the files are tab-separated, but have a different format:\n",
        " - *train* corpus contains similar sentences at the same row.\n",
        " - *validation* corpus contains the following columns: *question*, *similar question*, *negative example 1*, *negative example 2*, ... \n",
        " - *test* corpus contains the following columns: *question*, *example 1*, *example 2*, ...\n",
        "\n",
        "Validation corpus will be used for the intermediate validation of models. The test data will be necessary for submitting the quality of your model in the system."
      ]
    },
    {
      "cell_type": "markdown",
      "metadata": {
        "id": "k1C_1QTzxO1W",
        "colab_type": "text"
      },
      "source": [
        "Now you should read *validation* corpus, located at `data/validation.tsv`. You will use it later to evaluate current solution."
      ]
    },
    {
      "cell_type": "code",
      "metadata": {
        "id": "2zJ9uU83xO1X",
        "colab_type": "code",
        "colab": {}
      },
      "source": [
        "def read_corpus(filename):\n",
        "    data = []\n",
        "    for line in open(filename, encoding='utf-8'):\n",
        "        data.append(line.strip().split('\\t'))\n",
        "    return data"
      ],
      "execution_count": 0,
      "outputs": []
    },
    {
      "cell_type": "code",
      "metadata": {
        "id": "Y_NOu4lWxO1Z",
        "colab_type": "code",
        "colab": {}
      },
      "source": [
        "validation = read_corpus('/content/data/validation.tsv')"
      ],
      "execution_count": 0,
      "outputs": []
    },
    {
      "cell_type": "code",
      "metadata": {
        "id": "KT40RtkGxO1b",
        "colab_type": "code",
        "colab": {}
      },
      "source": [
        "from sklearn.metrics.pairwise import cosine_similarity"
      ],
      "execution_count": 0,
      "outputs": []
    },
    {
      "cell_type": "markdown",
      "metadata": {
        "id": "SYa4iu2JxO1d",
        "colab_type": "text"
      },
      "source": [
        "We will use cosine distance to rank candidate questions which you need to implement in the function *rank_candidates*. The function should return a sorted list of pairs *(initial position in candidates list, candidate)*. Index of some pair corresponds to its rank (the first is the best). For example, if the list of candidates was *[a, b, c]* and the most similar is *c*, then *a* and *b*, the function should return a list *[(2, c), (0, a), (1, b)]*.\n",
        "\n",
        "Pay attention, if you use the function *cosine_similarity* from *sklearn.metrics.pairwise* to calculate similarity because it works in a different way: most similar objects has greatest similarity. It's preferable to use a vectorized version of *cosine_similarity* function. Try to compute similarity at once and not use list comprehension. It should speed up your computations significantly."
      ]
    },
    {
      "cell_type": "code",
      "metadata": {
        "id": "TR1Xfu2AxO1d",
        "colab_type": "code",
        "colab": {}
      },
      "source": [
        "def rank_candidates(question, candidates, embeddings, dim=300):\n",
        "    \"\"\"\n",
        "        question: a string\n",
        "        candidates: a list of strings (candidates) which we want to rank\n",
        "        embeddings: some embeddings\n",
        "        dim: dimension of the current embeddings\n",
        "        \n",
        "        result: a list of pairs (initial position in the list, question)\n",
        "    \"\"\"\n",
        "\n",
        "    vecq = np.array(question_to_vec(question, embeddings, dim))\n",
        "    vecq = np.reshape(vecq, (1, vecq.size))\n",
        "    vecc = np.array([question_to_vec(candidate, embeddings, dim) for candidate in candidates])\n",
        "\n",
        "    cos_sim = cosine_similarity(vecq, vecc)[0]\n",
        "\n",
        "    index_sort = cos_sim.argsort()[::-1]\n",
        "    result = [(i, candidates[i]) for i in index_sort]\n",
        "\n",
        "    return result"
      ],
      "execution_count": 0,
      "outputs": []
    },
    {
      "cell_type": "markdown",
      "metadata": {
        "id": "HRbSPZNxxO1h",
        "colab_type": "text"
      },
      "source": [
        "Test your code on the tiny examples:"
      ]
    },
    {
      "cell_type": "code",
      "metadata": {
        "id": "BofBUX5IxO1h",
        "colab_type": "code",
        "colab": {}
      },
      "source": [
        "def test_rank_candidates():\n",
        "    questions = ['converting string to list', 'Sending array via Ajax fails']\n",
        "    candidates = [['Convert Google results object (pure js) to Python object', \n",
        "                   'C# create cookie from string and send it',\n",
        "                   'How to use jQuery AJAX for an outside domain?'], \n",
        "                  ['Getting all list items of an unordered list in PHP', \n",
        "                   'WPF- How to update the changes in list item of a list', \n",
        "                   'select2 not displaying search results']]\n",
        "    results = [[(1, 'C# create cookie from string and send it'), \n",
        "                (0, 'Convert Google results object (pure js) to Python object'), \n",
        "                (2, 'How to use jQuery AJAX for an outside domain?')],\n",
        "               [(0, 'Getting all list items of an unordered list in PHP'), \n",
        "                (2, 'select2 not displaying search results'), \n",
        "                (1, 'WPF- How to update the changes in list item of a list')]]\n",
        "    for question, q_candidates, result in zip(questions, candidates, results):\n",
        "        ranks = rank_candidates(question, q_candidates, wv_embeddings, 300)\n",
        "        if not np.all(ranks == result):\n",
        "            return \"Check the function.\"\n",
        "    return \"Basic tests are passed.\""
      ],
      "execution_count": 0,
      "outputs": []
    },
    {
      "cell_type": "code",
      "metadata": {
        "id": "gjDt4lf-xO1j",
        "colab_type": "code",
        "outputId": "298a97ab-4186-4d51-ac92-56e1868fba40",
        "colab": {
          "base_uri": "https://localhost:8080/",
          "height": 34
        }
      },
      "source": [
        "print(test_rank_candidates())"
      ],
      "execution_count": 0,
      "outputs": [
        {
          "output_type": "stream",
          "text": [
            "Basic tests are passed.\n"
          ],
          "name": "stdout"
        }
      ]
    },
    {
      "cell_type": "markdown",
      "metadata": {
        "id": "KEriIygExO1l",
        "colab_type": "text"
      },
      "source": [
        "Now we can test the quality of the current approach. Run the next two cells to get the results. Pay attention that calculation of similarity between vectors takes time and this calculation is computed approximately in 10 minutes."
      ]
    },
    {
      "cell_type": "code",
      "metadata": {
        "id": "QN2HwSgxxO1l",
        "colab_type": "code",
        "colab": {}
      },
      "source": [
        "wv_ranking = []\n",
        "for line in validation:\n",
        "    q, *ex = line\n",
        "    ranks = rank_candidates(q, ex, wv_embeddings)\n",
        "    wv_ranking.append([r[0] for r in ranks].index(0) + 1)"
      ],
      "execution_count": 0,
      "outputs": []
    },
    {
      "cell_type": "code",
      "metadata": {
        "id": "foU62-bxxO1n",
        "colab_type": "code",
        "outputId": "e3c3a231-ed65-4c2c-a9ef-053ac466d334",
        "colab": {
          "base_uri": "https://localhost:8080/",
          "height": 119
        }
      },
      "source": [
        "for k in [1, 5, 10, 100, 500, 1000]:\n",
        "    print(\"DCG@%4d: %.3f | Hits@%4d: %.3f\" % (k, dcg_score(wv_ranking, k), k, hits_count(wv_ranking, k)))"
      ],
      "execution_count": 0,
      "outputs": [
        {
          "output_type": "stream",
          "text": [
            "DCG@   1: 0.214 | Hits@   1: 0.214\n",
            "DCG@   5: 0.268 | Hits@   5: 0.316\n",
            "DCG@  10: 0.285 | Hits@  10: 0.367\n",
            "DCG@ 100: 0.323 | Hits@ 100: 0.557\n",
            "DCG@ 500: 0.355 | Hits@ 500: 0.814\n",
            "DCG@1000: 0.375 | Hits@1000: 1.000\n"
          ],
          "name": "stdout"
        }
      ]
    },
    {
      "cell_type": "markdown",
      "metadata": {
        "id": "HXEioJkQxO1q",
        "colab_type": "text"
      },
      "source": [
        "If you did all the steps correctly, you should be frustrated by the received results. Let's try to understand why the quality is so low. First of all, when you work with some data it is necessary to have an idea how the data looks like. Print several questions from the data:"
      ]
    },
    {
      "cell_type": "code",
      "metadata": {
        "id": "xM3mie81xO1q",
        "colab_type": "code",
        "outputId": "6093c9cc-4bcf-4a91-9d05-d55ebeedfdd8",
        "colab": {
          "base_uri": "https://localhost:8080/",
          "height": 88
        }
      },
      "source": [
        "for line in validation[:3]:\n",
        "    q, *examples = line\n",
        "    print(q, *examples[:3])"
      ],
      "execution_count": 0,
      "outputs": [
        {
          "output_type": "stream",
          "text": [
            "How to print a binary heap tree without recursion? How do you best convert a recursive function to an iterative one? How can i use ng-model with directive in angular js flash: drawing and erasing\n",
            "How to start PhoneStateListener programmatically? PhoneStateListener and service Java cast object[] to model WCF and What does this mean?\n",
            "jQuery: Show a div2 when mousenter over div1 is over when hover on div1 depenting on if it is on div2 or not it should act differently How to run selenium in google app engine/cloud? Python Comparing two lists of strings for similarities\n"
          ],
          "name": "stdout"
        }
      ]
    },
    {
      "cell_type": "markdown",
      "metadata": {
        "id": "8Ht0-xidxO1w",
        "colab_type": "text"
      },
      "source": [
        "As you can see, we deal with the raw data. It means that we have many punctuation marks, special characters and unlowercased letters. In our case, it could lead to the situation where we can't find some embeddings, e.g. for the word \"grid?\". \n",
        "\n",
        "To solve this problem you should use the functions *text_prepare* from the previous assignments to prepare the data."
      ]
    },
    {
      "cell_type": "code",
      "metadata": {
        "id": "WO4ZLp0zxO1w",
        "colab_type": "code",
        "colab": {}
      },
      "source": [
        "from util import text_prepare"
      ],
      "execution_count": 0,
      "outputs": []
    },
    {
      "cell_type": "markdown",
      "metadata": {
        "id": "rv0pmOjzxO1y",
        "colab_type": "text"
      },
      "source": [
        "Now transform all the questions from the validation set:"
      ]
    },
    {
      "cell_type": "code",
      "metadata": {
        "id": "2cU5c4jFxO1y",
        "colab_type": "code",
        "colab": {}
      },
      "source": [
        "prepared_validation = []\n",
        "for line in validation:\n",
        "    q, *ex = line\n",
        "    q = text_prepare(q)\n",
        "    for i,e in enumerate(ex):\n",
        "        ex[i] = text_prepare(e)\n",
        "    prepared_validation.append([q,*ex])"
      ],
      "execution_count": 0,
      "outputs": []
    },
    {
      "cell_type": "markdown",
      "metadata": {
        "id": "C69M3QD8xO11",
        "colab_type": "text"
      },
      "source": [
        "Let's evaluate the approach again after the preparation:"
      ]
    },
    {
      "cell_type": "code",
      "metadata": {
        "id": "3tbraHlRxO12",
        "colab_type": "code",
        "colab": {}
      },
      "source": [
        "wv_prepared_ranking = []\n",
        "for line in prepared_validation:\n",
        "    q, *ex = line\n",
        "    ranks = rank_candidates(q, ex, wv_embeddings)\n",
        "    wv_prepared_ranking.append([r[0] for r in ranks].index(0) + 1)"
      ],
      "execution_count": 0,
      "outputs": []
    },
    {
      "cell_type": "code",
      "metadata": {
        "id": "NTrYK4v6xO16",
        "colab_type": "code",
        "outputId": "6ec53de9-66d8-4f23-a244-d708ad6e7d92",
        "colab": {
          "base_uri": "https://localhost:8080/",
          "height": 119
        }
      },
      "source": [
        "for k in [1, 5, 10, 100, 500, 1000]:\n",
        "    print(\"DCG@%4d: %.3f | Hits@%4d: %.3f\" % (k, dcg_score(wv_prepared_ranking, k), \n",
        "                                              k, hits_count(wv_prepared_ranking, k)))"
      ],
      "execution_count": 0,
      "outputs": [
        {
          "output_type": "stream",
          "text": [
            "DCG@   1: 0.316 | Hits@   1: 0.316\n",
            "DCG@   5: 0.383 | Hits@   5: 0.444\n",
            "DCG@  10: 0.400 | Hits@  10: 0.496\n",
            "DCG@ 100: 0.434 | Hits@ 100: 0.665\n",
            "DCG@ 500: 0.457 | Hits@ 500: 0.841\n",
            "DCG@1000: 0.473 | Hits@1000: 1.000\n"
          ],
          "name": "stdout"
        }
      ]
    },
    {
      "cell_type": "markdown",
      "metadata": {
        "id": "RBBqgDtsxO2B",
        "colab_type": "text"
      },
      "source": [
        "Now, prepare also train and test data, because you will need it in the future:"
      ]
    },
    {
      "cell_type": "code",
      "metadata": {
        "id": "U-2_I_tpxO2C",
        "colab_type": "code",
        "colab": {}
      },
      "source": [
        "def prepare_file(in_, out_):\n",
        "    out = open(out_, 'w')\n",
        "    for line in open(in_, encoding='utf8'):\n",
        "        line = line.strip().split('\\t')\n",
        "        new_line = [text_prepare(q) for q in line]\n",
        "        print(*new_line, sep='\\t', file=out)\n",
        "    out.close()"
      ],
      "execution_count": 0,
      "outputs": []
    },
    {
      "cell_type": "code",
      "metadata": {
        "id": "iqUenC20xO2G",
        "colab_type": "code",
        "colab": {}
      },
      "source": [
        "prepare_file('/content/data/validation.tsv', '/content/data/tp_v.tsv')\n",
        "prepare_file('/content/data/test.tsv', '/content/data/tp_t.tsv')"
      ],
      "execution_count": 0,
      "outputs": []
    },
    {
      "cell_type": "code",
      "metadata": {
        "id": "4x-7_OEuLe5G",
        "colab_type": "code",
        "colab": {}
      },
      "source": [
        "prepare_file('./data/train.tsv', './data/tp_train.tsv')"
      ],
      "execution_count": 0,
      "outputs": []
    },
    {
      "cell_type": "markdown",
      "metadata": {
        "id": "XnBgTWZ_xO2J",
        "colab_type": "text"
      },
      "source": [
        "**Task 4 (W2VTokenizedRanks).** For each question from prepared *test.tsv* submit the ranks of the candidates to earn the points. The calculations should take about 3-5 minutes. Pay attention that the function *rank_candidates* returns a ranking, while in this case you should find a position in this ranking. Ranks should start with 1."
      ]
    },
    {
      "cell_type": "code",
      "metadata": {
        "id": "L86hba8GxO2J",
        "colab_type": "code",
        "colab": {}
      },
      "source": [
        "from util import matrix_to_string"
      ],
      "execution_count": 0,
      "outputs": []
    },
    {
      "cell_type": "code",
      "metadata": {
        "id": "pgb-jWxrxO2P",
        "colab_type": "code",
        "outputId": "d373145c-1d48-4776-c070-06928400f61b",
        "colab": {
          "base_uri": "https://localhost:8080/",
          "height": 54
        }
      },
      "source": [
        "w2v_ranks_results = []\n",
        "prepared_test_data = '/content/data/tp_t.tsv'\n",
        "for line in open(prepared_test_data):\n",
        "    q, *ex = line.strip().split('\\t')\n",
        "    ranks = rank_candidates(q, ex, wv_embeddings, 300)\n",
        "    ranked_candidates = [r[0] for r in ranks]\n",
        "    w2v_ranks_results.append([ranked_candidates.index(i) + 1 for i in range(len(ranked_candidates))])\n",
        "    \n",
        "grader.submit_tag('W2VTokenizedRanks', matrix_to_string(w2v_ranks_results))"
      ],
      "execution_count": 0,
      "outputs": [
        {
          "output_type": "stream",
          "text": [
            "Current answer for task W2VTokenizedRanks is: 95\t94\t7\t9\t64\t37\t32\t93\t24\t100\t98\t17\t60\t6\t97\t49\t70\t38\t42\t96\t30\t21\t2\t65\t67\t45\t27\t26\t57\t62\t11\t88\t56\t66\t7...\n"
          ],
          "name": "stdout"
        }
      ]
    },
    {
      "cell_type": "markdown",
      "metadata": {
        "id": "DpFHX1KfxO2V",
        "colab_type": "text"
      },
      "source": [
        "## Advanced solution: StarSpace embeddings\n",
        "\n",
        "Now you are ready to train your own word embeddings! In particular, you need to train embeddings specially for our task of duplicates detection. Unfortunately, StarSpace cannot be run on Windows and we recommend to use provided\n",
        "[docker container](https://github.com/hse-aml/natural-language-processing/blob/master/Docker-tutorial.md) or other alternatives. Don't delete results of this task because you will need it in the final project.\n",
        "\n",
        "### How it works and what's the main difference with word2vec?\n",
        "The main point in this section is that StarSpace can be trained specifically for some tasks. In contrast to word2vec model, which tries to train similar embeddings for words in similar contexts, StarSpace uses embeddings for the whole sentence (just as a sum of embeddings of words and phrases). Despite the fact that in both cases we get word embeddings as a result of the training, StarSpace embeddings are trained using some supervised data, e.g. a set of similar sentence pairs, and thus they can better suit the task.\n",
        "\n",
        "In our case, StarSpace should use two types of sentence pairs for training: \"positive\" and \"negative\". \"Positive\" examples are extracted from the train sample (duplicates, high similarity) and the \"negative\" examples are generated randomly (low similarity assumed). \n",
        "\n",
        "### How to choose the best params for the model?\n",
        "Normally, you would start with some default choice and then run extensive experiments to compare different strategies. However, we have some recommendations ready for you to save your time:\n",
        "- Be careful with choosing the suitable training mode. In this task we want to explore texts similarity which corresponds to *trainMode = 3*.\n",
        "- Use adagrad optimization (parameter *adagrad = true*).\n",
        "- Set the length of phrase equal to 1 (parameter *ngrams*), because we need embeddings only for words.\n",
        "- Don't use a large number of *epochs* (we think that 5 should be enough).\n",
        "- Try dimension *dim* equal to 100.\n",
        "- To compare embeddings usually *cosine* *similarity* is used.\n",
        "- Set *minCount* greater than 1 (for example, 2) if you don't want to get embeddings for extremely rare words.\n",
        "- Parameter *verbose = true* could show you the progress of the training process.\n",
        "- Set parameter *fileFormat* equals *labelDoc*.\n",
        "- Parameter *negSearchLimit* is responsible for a number of negative examples which is used during the training. We think that 10 will be enought for this task.\n",
        "- To increase a speed of training we recommend to set *learning rate* to 0.05."
      ]
    },
    {
      "cell_type": "markdown",
      "metadata": {
        "id": "wSPXmwdJxO2V",
        "colab_type": "text"
      },
      "source": [
        "Train StarSpace embeddings for unigrams on the train dataset. You don't need to change the format of the input data. Just don't forget to use prepared version of the training data. \n",
        "\n",
        "If you follow the instruction, the training process will take about 1 hour. The size of the embeddings' dictionary should be approximately 100 000 (number of lines in the result file). If you got significantly more than this number, try to check all the instructions above."
      ]
    },
    {
      "cell_type": "code",
      "metadata": {
        "id": "-RvvS4ii8QFh",
        "colab_type": "code",
        "colab": {}
      },
      "source": [
        "prepare_file('./data/train.tsv', './data/tp_train.tsv')"
      ],
      "execution_count": 0,
      "outputs": []
    },
    {
      "cell_type": "code",
      "metadata": {
        "id": "0_bfI61bxO2W",
        "colab_type": "code",
        "outputId": "93f01bb4-73ce-4b2f-ca70-17bbca459763",
        "colab": {
          "base_uri": "https://localhost:8080/",
          "height": 935
        }
      },
      "source": [
        "!Starspace/starspace train -trainFile '/content/data/tp_train.tsv' -model \"sodd\" -trainMode 3 \\\n",
        "    -adagrad true -ngrams 1 -epoch 5 -dim 100 -minCount 2 -verbose true -fileFormat \"labelDoc\" \\\n",
        "    -negSearchLimit 10 -similarity \"cosine\" -lr 0.05"
      ],
      "execution_count": 0,
      "outputs": [
        {
          "output_type": "stream",
          "text": [
            "Arguments: \n",
            "lr: 0.05\n",
            "dim: 100\n",
            "epoch: 5\n",
            "maxTrainTime: 8640000\n",
            "validationPatience: 10\n",
            "saveEveryEpoch: 0\n",
            "loss: hinge\n",
            "margin: 0.05\n",
            "similarity: cosine\n",
            "maxNegSamples: 10\n",
            "negSearchLimit: 10\n",
            "batchSize: 5\n",
            "thread: 10\n",
            "minCount: 2\n",
            "minCountLabel: 1\n",
            "label: __label__\n",
            "label: __label__\n",
            "ngrams: 1\n",
            "bucket: 2000000\n",
            "adagrad: 1\n",
            "trainMode: 3\n",
            "fileFormat: labelDoc\n",
            "normalizeText: 0\n",
            "dropoutLHS: 0\n",
            "dropoutRHS: 0\n",
            "useWeight: 0\n",
            "weightSep: :\n",
            "Start to initialize starspace model.\n",
            "Build dict from input file : /content/data/tp_train.tsv\n",
            "Read 12M words\n",
            "Number of words in dictionary:  95058\n",
            "Number of labels in dictionary: 0\n",
            "Loading data from file : /content/data/tp_train.tsv\n",
            "Total number of examples loaded : 999740\n",
            "Initialized model weights. Model size :\n",
            "matrix : 95058 100\n",
            "Training epoch 0: 0.05 0.01\n",
            "Epoch: 100.0%  lr: 0.040000  loss: 0.043184  eta: 0h13m  tot: 0h3m17s  (20.0%)\n",
            " ---+++                Epoch    0 Train error : 0.04359153 +++--- ☃\n",
            "Training epoch 1: 0.04 0.01\n",
            "Epoch: 100.0%  lr: 0.030030  loss: 0.013364  eta: 0h9m  tot: 0h6m17s  (40.0%)\n",
            " ---+++                Epoch    1 Train error : 0.01321742 +++--- ☃\n",
            "Training epoch 2: 0.03 0.01\n",
            "Epoch: 100.0%  lr: 0.020000  loss: 0.009309  eta: 0h5m  tot: 0h9m17s  (60.0%)\n",
            " ---+++                Epoch    2 Train error : 0.00932385 +++--- ☃\n",
            "Training epoch 3: 0.02 0.01\n",
            "Epoch: 100.0%  lr: 0.010000  loss: 0.007805  eta: 0h2m  tot: 0h12m14s  (80.0%)\n",
            " ---+++                Epoch    3 Train error : 0.00769086 +++--- ☃\n",
            "Training epoch 4: 0.01 0.01\n",
            "Epoch: 100.0%  lr: 0.000000  loss: 0.006603  eta: <1min   tot: 0h15m11s  (100.0%)\n",
            " ---+++                Epoch    4 Train error : 0.00688092 +++--- ☃\n",
            "Saving model to file : sodd\n",
            "Saving model in tsv format : sodd.tsv\n"
          ],
          "name": "stdout"
        }
      ]
    },
    {
      "cell_type": "markdown",
      "metadata": {
        "collapsed": true,
        "id": "v92ooerxxO2Y",
        "colab_type": "text"
      },
      "source": [
        "And now we can compare the new embeddings with the previous ones. You can find trained word vectors in the file *[model_file_name].tsv*. Upload the embeddings from StarSpace into a dict. "
      ]
    },
    {
      "cell_type": "code",
      "metadata": {
        "id": "_Udi7-NxxO2Z",
        "colab_type": "code",
        "colab": {}
      },
      "source": [
        "starspace_embeddings = {}\n",
        "for line in open('/content/sodd.tsv'):\n",
        "    word,*vec = line.strip().split()\n",
        "    vf = []\n",
        "    for v in vec:\n",
        "        # print(v)\n",
        "        vf.append(float(v))\n",
        "    starspace_embeddings[word] = np.array(vf)"
      ],
      "execution_count": 0,
      "outputs": []
    },
    {
      "cell_type": "code",
      "metadata": {
        "id": "1EIq5T2UxO2a",
        "colab_type": "code",
        "colab": {}
      },
      "source": [
        "ss_prepared_ranking = []\n",
        "for line in prepared_validation:\n",
        "    q, *ex = line\n",
        "    ranks = rank_candidates(q, ex, starspace_embeddings, 100)\n",
        "    ss_prepared_ranking.append([r[0] for r in ranks].index(0) + 1)"
      ],
      "execution_count": 0,
      "outputs": []
    },
    {
      "cell_type": "code",
      "metadata": {
        "id": "ioHt-TsJxO2c",
        "colab_type": "code",
        "colab": {}
      },
      "source": [
        "for k in [1, 5, 10, 100, 500, 1000]:\n",
        "    print(\"DCG@%4d: %.3f | Hits@%4d: %.3f\" % (k, dcg_score(ss_prepared_ranking, k), \n",
        "                                               k, hits_count(ss_prepared_ranking, k)))"
      ],
      "execution_count": 0,
      "outputs": []
    },
    {
      "cell_type": "markdown",
      "metadata": {
        "id": "3ZsA4hFgxO2i",
        "colab_type": "text"
      },
      "source": [
        "Due to training for the particular task with the supervised data, you should expect to obtain a higher quality than for the previous approach. In additiion, despite the fact that StarSpace's trained vectors have a smaller dimension than word2vec's, it provides better results in this task."
      ]
    },
    {
      "cell_type": "markdown",
      "metadata": {
        "id": "Uz-H7VsUxO2j",
        "colab_type": "text"
      },
      "source": [
        "**Task 5 (StarSpaceRanks).** For each question from prepared *test.tsv* submit the ranks of the candidates for trained representation."
      ]
    },
    {
      "cell_type": "code",
      "metadata": {
        "id": "ZNb8khszxO2k",
        "colab_type": "code",
        "outputId": "e47da2c6-2e93-44c9-b932-46c3957fee9b",
        "colab": {
          "base_uri": "https://localhost:8080/",
          "height": 54
        }
      },
      "source": [
        "starspace_ranks_results = []\n",
        "prepared_test_data = './data/tp_t.tsv'\n",
        "for line in open(prepared_test_data):\n",
        "    q, *ex = line.strip().split('\\t')\n",
        "    ranks = rank_candidates(q, ex, starspace_embeddings, 100)\n",
        "    ranked_candidates = [r[0] for r in ranks]\n",
        "    starspace_ranks_results.append([ranked_candidates.index(i) + 1 for i in range(len(ranked_candidates))])\n",
        "    \n",
        "grader.submit_tag('StarSpaceRanks', matrix_to_string(starspace_ranks_results))"
      ],
      "execution_count": 0,
      "outputs": [
        {
          "output_type": "stream",
          "text": [
            "Current answer for task StarSpaceRanks is: 87\t24\t50\t86\t6\t94\t82\t76\t57\t39\t31\t16\t11\t59\t96\t74\t27\t51\t14\t100\t84\t25\t7\t99\t85\t33\t83\t38\t91\t10\t48\t49\t92\t69...\n"
          ],
          "name": "stdout"
        }
      ]
    },
    {
      "cell_type": "markdown",
      "metadata": {
        "id": "_ZSYVB7TxO2l",
        "colab_type": "text"
      },
      "source": [
        "Please, **don't remove** the file with these embeddings because you will need them in the final project."
      ]
    },
    {
      "cell_type": "markdown",
      "metadata": {
        "id": "px8d7vbixO2l",
        "colab_type": "text"
      },
      "source": [
        "### Authorization & Submission\n",
        "To submit assignment parts to Cousera platform, please, enter your e-mail and token into variables below. You can generate token on this programming assignment page. <b>Note:</b> Token expires 30 minutes after generation."
      ]
    },
    {
      "cell_type": "code",
      "metadata": {
        "id": "ID5-2f0VxO2m",
        "colab_type": "code",
        "outputId": "c0851b34-3f59-4640-8748-c4dace0fc65f",
        "colab": {
          "base_uri": "https://localhost:8080/",
          "height": 411
        }
      },
      "source": [
        "STUDENT_EMAIL = ''\n",
        "STUDENT_TOKEN = '' \n",
        "grader.status()"
      ],
      "execution_count": 0,
      "outputs": [
        {
          "output_type": "stream",
          "text": [
            "You want to submit these parts:\n",
            "Task Question2Vec: 0.01929389126598835\n",
            "-0.02872721292078495\n",
            "0.0460561104118824\n",
            "0.0852593332529068\n",
            "0.0243055559694767\n",
            "-0...\n",
            "Task HitsCount: 0.9999999900000002\n",
            "0.4999999975\n",
            "0.999999995\n",
            "0.4999999975\n",
            "0.999999995\n",
            "0.3333333322222222\n",
            "0.6666666644...\n",
            "Task DCGScore: 0.9999999900000002\n",
            "0.4999999975\n",
            "0.8154648727084044\n",
            "0.4999999975\n",
            "0.8154648727084044\n",
            "0.333333332222222...\n",
            "Task W2VTokenizedRanks: 95\t94\t7\t9\t64\t37\t32\t93\t24\t100\t98\t17\t60\t6\t97\t49\t70\t38\t42\t96\t30\t21\t2\t65\t67\t45\t27\t26\t57\t62\t11\t88\t56\t66\t7...\n",
            "Task StarSpaceRanks: 87\t24\t50\t86\t6\t94\t82\t76\t57\t39\t31\t16\t11\t59\t96\t74\t27\t51\t14\t100\t84\t25\t7\t99\t85\t33\t83\t38\t91\t10\t48\t49\t92\t69...\n"
          ],
          "name": "stdout"
        }
      ]
    },
    {
      "cell_type": "markdown",
      "metadata": {
        "id": "UFUyU5v8xO2n",
        "colab_type": "text"
      },
      "source": [
        "If you want to submit these answers, run cell below"
      ]
    },
    {
      "cell_type": "code",
      "metadata": {
        "id": "HidveSRzxO2o",
        "colab_type": "code",
        "outputId": "4fb594b9-04d8-4e0d-8bb8-63652a5e43fd",
        "colab": {
          "base_uri": "https://localhost:8080/",
          "height": 34
        }
      },
      "source": [
        "grader.submit(STUDENT_EMAIL, STUDENT_TOKEN)"
      ],
      "execution_count": 0,
      "outputs": [
        {
          "output_type": "stream",
          "text": [
            "Submitted to Coursera platform. See results on assignment page!\n"
          ],
          "name": "stdout"
        }
      ]
    }
  ]
}
